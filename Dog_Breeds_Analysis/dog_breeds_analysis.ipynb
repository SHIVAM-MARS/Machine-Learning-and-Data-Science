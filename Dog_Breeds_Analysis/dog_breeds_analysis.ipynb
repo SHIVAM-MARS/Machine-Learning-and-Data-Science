{
 "cells": [
  {
   "cell_type": "markdown",
   "metadata": {},
   "source": [
    "# Dog Breed Analysis\n",
    "\n",
    "🐕 Dataset with information about dog breeds 🐕"
   ]
  },
  {
   "cell_type": "markdown",
   "metadata": {},
   "source": [
    "### About DataSet"
   ]
  },
  {
   "cell_type": "markdown",
   "metadata": {},
   "source": [
    "https://www.kaggle.com/datasets/marshuu/dog-breeds?select=dog_breeds.csv"
   ]
  },
  {
   "cell_type": "markdown",
   "metadata": {},
   "source": [
    "#### Context"
   ]
  },
  {
   "cell_type": "markdown",
   "metadata": {},
   "source": [
    "Who doesn't love dogs? 🐕 Those wonderful creatures make our life so much better! So if you love dogs as much as I do, you'd be probably interested in this dataset.\n",
    "\n",
    "It includes the name of the breed, country of origin, longevity, height, color of fur and eyes, their character traits and typical health problems for each breed."
   ]
  },
  {
   "cell_type": "markdown",
   "metadata": {},
   "source": [
    "## Programming"
   ]
  },
  {
   "cell_type": "markdown",
   "metadata": {},
   "source": [
    "### Importing Libraries"
   ]
  },
  {
   "cell_type": "code",
   "execution_count": 182,
   "metadata": {},
   "outputs": [],
   "source": [
    "import pandas as pd\n",
    "import numpy as np\n",
    "import seaborn as sns\n",
    "import matplotlib.pyplot as plt"
   ]
  },
  {
   "cell_type": "markdown",
   "metadata": {},
   "source": [
    "### Importing Dataset"
   ]
  },
  {
   "cell_type": "code",
   "execution_count": 183,
   "metadata": {},
   "outputs": [],
   "source": [
    "df = pd.read_csv(\"./dog_breeds.csv\")"
   ]
  },
  {
   "cell_type": "markdown",
   "metadata": {},
   "source": [
    "### Basic Analysis about dataset"
   ]
  },
  {
   "cell_type": "code",
   "execution_count": 184,
   "metadata": {},
   "outputs": [
    {
     "data": {
      "text/html": [
       "<div>\n",
       "<style scoped>\n",
       "    .dataframe tbody tr th:only-of-type {\n",
       "        vertical-align: middle;\n",
       "    }\n",
       "\n",
       "    .dataframe tbody tr th {\n",
       "        vertical-align: top;\n",
       "    }\n",
       "\n",
       "    .dataframe thead th {\n",
       "        text-align: right;\n",
       "    }\n",
       "</style>\n",
       "<table border=\"1\" class=\"dataframe\">\n",
       "  <thead>\n",
       "    <tr style=\"text-align: right;\">\n",
       "      <th></th>\n",
       "      <th>Breed</th>\n",
       "      <th>Country of Origin</th>\n",
       "      <th>Fur Color</th>\n",
       "      <th>Height (in)</th>\n",
       "      <th>Color of Eyes</th>\n",
       "      <th>Longevity (yrs)</th>\n",
       "      <th>Character Traits</th>\n",
       "      <th>Common Health Problems</th>\n",
       "    </tr>\n",
       "  </thead>\n",
       "  <tbody>\n",
       "    <tr>\n",
       "      <th>0</th>\n",
       "      <td>Labrador Retriever</td>\n",
       "      <td>Canada</td>\n",
       "      <td>Yellow, Black, Chocolate</td>\n",
       "      <td>21-24</td>\n",
       "      <td>Brown</td>\n",
       "      <td>10-12</td>\n",
       "      <td>Loyal, friendly, intelligent, energetic, good-...</td>\n",
       "      <td>Hip dysplasia, obesity, ear infections</td>\n",
       "    </tr>\n",
       "    <tr>\n",
       "      <th>1</th>\n",
       "      <td>German Shepherd</td>\n",
       "      <td>Germany</td>\n",
       "      <td>Black, Tan</td>\n",
       "      <td>22-26</td>\n",
       "      <td>Brown</td>\n",
       "      <td>7-10</td>\n",
       "      <td>Loyal, intelligent, protective, confident, tra...</td>\n",
       "      <td>Hip dysplasia, elbow dysplasia, pancreatitis</td>\n",
       "    </tr>\n",
       "    <tr>\n",
       "      <th>2</th>\n",
       "      <td>Bulldog</td>\n",
       "      <td>England</td>\n",
       "      <td>White, Red</td>\n",
       "      <td>12-16</td>\n",
       "      <td>Brown</td>\n",
       "      <td>8-10</td>\n",
       "      <td>Loyal, calm, gentle, brave</td>\n",
       "      <td>Skin allergies, respiratory issues, obesity</td>\n",
       "    </tr>\n",
       "    <tr>\n",
       "      <th>3</th>\n",
       "      <td>Poodle</td>\n",
       "      <td>France</td>\n",
       "      <td>White, Black, Brown, Apricot</td>\n",
       "      <td>10-15</td>\n",
       "      <td>Brown, Blue</td>\n",
       "      <td>12-15</td>\n",
       "      <td>Intelligent, active, affectionate, hypoallergenic</td>\n",
       "      <td>Hip dysplasia, epilepsy, bladder stones</td>\n",
       "    </tr>\n",
       "    <tr>\n",
       "      <th>4</th>\n",
       "      <td>Beagle</td>\n",
       "      <td>England</td>\n",
       "      <td>White, Tan, Red, Lemon</td>\n",
       "      <td>13-15</td>\n",
       "      <td>Brown</td>\n",
       "      <td>12-15</td>\n",
       "      <td>Curious, friendly, energetic, good-natured</td>\n",
       "      <td>Ear infections, hip dysplasia, epilepsy</td>\n",
       "    </tr>\n",
       "  </tbody>\n",
       "</table>\n",
       "</div>"
      ],
      "text/plain": [
       "                Breed Country of Origin                     Fur Color  \\\n",
       "0  Labrador Retriever            Canada      Yellow, Black, Chocolate   \n",
       "1     German Shepherd           Germany                    Black, Tan   \n",
       "2             Bulldog           England                    White, Red   \n",
       "3              Poodle            France  White, Black, Brown, Apricot   \n",
       "4              Beagle           England        White, Tan, Red, Lemon   \n",
       "\n",
       "  Height (in) Color of Eyes Longevity (yrs)  \\\n",
       "0       21-24         Brown           10-12   \n",
       "1       22-26         Brown            7-10   \n",
       "2       12-16         Brown            8-10   \n",
       "3       10-15   Brown, Blue           12-15   \n",
       "4       13-15         Brown           12-15   \n",
       "\n",
       "                                    Character Traits  \\\n",
       "0  Loyal, friendly, intelligent, energetic, good-...   \n",
       "1  Loyal, intelligent, protective, confident, tra...   \n",
       "2                         Loyal, calm, gentle, brave   \n",
       "3  Intelligent, active, affectionate, hypoallergenic   \n",
       "4         Curious, friendly, energetic, good-natured   \n",
       "\n",
       "                         Common Health Problems  \n",
       "0        Hip dysplasia, obesity, ear infections  \n",
       "1  Hip dysplasia, elbow dysplasia, pancreatitis  \n",
       "2   Skin allergies, respiratory issues, obesity  \n",
       "3       Hip dysplasia, epilepsy, bladder stones  \n",
       "4       Ear infections, hip dysplasia, epilepsy  "
      ]
     },
     "execution_count": 184,
     "metadata": {},
     "output_type": "execute_result"
    }
   ],
   "source": [
    "df.head()"
   ]
  },
  {
   "cell_type": "code",
   "execution_count": 185,
   "metadata": {},
   "outputs": [
    {
     "data": {
      "text/html": [
       "<div>\n",
       "<style scoped>\n",
       "    .dataframe tbody tr th:only-of-type {\n",
       "        vertical-align: middle;\n",
       "    }\n",
       "\n",
       "    .dataframe tbody tr th {\n",
       "        vertical-align: top;\n",
       "    }\n",
       "\n",
       "    .dataframe thead th {\n",
       "        text-align: right;\n",
       "    }\n",
       "</style>\n",
       "<table border=\"1\" class=\"dataframe\">\n",
       "  <thead>\n",
       "    <tr style=\"text-align: right;\">\n",
       "      <th></th>\n",
       "      <th>Breed</th>\n",
       "      <th>Country of Origin</th>\n",
       "      <th>Fur Color</th>\n",
       "      <th>Height (in)</th>\n",
       "      <th>Color of Eyes</th>\n",
       "      <th>Longevity (yrs)</th>\n",
       "      <th>Character Traits</th>\n",
       "      <th>Common Health Problems</th>\n",
       "    </tr>\n",
       "  </thead>\n",
       "  <tbody>\n",
       "    <tr>\n",
       "      <th>112</th>\n",
       "      <td>Catahoula Leopard Dog</td>\n",
       "      <td>United States</td>\n",
       "      <td>Merle, Black</td>\n",
       "      <td>20-26</td>\n",
       "      <td>Brown</td>\n",
       "      <td>12-14</td>\n",
       "      <td>Intelligent, energetic, good-natured, loyal</td>\n",
       "      <td>Dental problems, eye issues, skin allergies</td>\n",
       "    </tr>\n",
       "    <tr>\n",
       "      <th>113</th>\n",
       "      <td>Cocker Spaniel</td>\n",
       "      <td>England</td>\n",
       "      <td>Black, Brown</td>\n",
       "      <td>14-15</td>\n",
       "      <td>Brown</td>\n",
       "      <td>12-15</td>\n",
       "      <td>Intelligent, energetic, playful, good-natured</td>\n",
       "      <td>Dental problems, eye issues, skin allergies</td>\n",
       "    </tr>\n",
       "    <tr>\n",
       "      <th>114</th>\n",
       "      <td>Miniature Shiba Inu</td>\n",
       "      <td>Japan</td>\n",
       "      <td>Red, Sesame</td>\n",
       "      <td>13-16</td>\n",
       "      <td>Brown</td>\n",
       "      <td>12-15</td>\n",
       "      <td>Intelligent, energetic, playful, good-natured</td>\n",
       "      <td>Dental problems, eye issues, skin allergies</td>\n",
       "    </tr>\n",
       "    <tr>\n",
       "      <th>115</th>\n",
       "      <td>Belgian Tervuren</td>\n",
       "      <td>Belgium</td>\n",
       "      <td>Fawn</td>\n",
       "      <td>22-26</td>\n",
       "      <td>Brown</td>\n",
       "      <td>12-14</td>\n",
       "      <td>Intelligent, energetic, good-natured, loyal</td>\n",
       "      <td>Dental problems, eye issues, skin allergies</td>\n",
       "    </tr>\n",
       "    <tr>\n",
       "      <th>116</th>\n",
       "      <td>Pharaoh Hound</td>\n",
       "      <td>Malta</td>\n",
       "      <td>Red</td>\n",
       "      <td>21-25</td>\n",
       "      <td>Brown</td>\n",
       "      <td>12-14</td>\n",
       "      <td>Intelligent, energetic, good-natured, loyal</td>\n",
       "      <td>Dental problems, eye issues, skin allergies</td>\n",
       "    </tr>\n",
       "  </tbody>\n",
       "</table>\n",
       "</div>"
      ],
      "text/plain": [
       "                     Breed Country of Origin     Fur Color Height (in)  \\\n",
       "112  Catahoula Leopard Dog     United States  Merle, Black       20-26   \n",
       "113         Cocker Spaniel           England  Black, Brown       14-15   \n",
       "114    Miniature Shiba Inu             Japan   Red, Sesame       13-16   \n",
       "115       Belgian Tervuren           Belgium          Fawn       22-26   \n",
       "116          Pharaoh Hound             Malta           Red       21-25   \n",
       "\n",
       "    Color of Eyes Longevity (yrs)  \\\n",
       "112         Brown           12-14   \n",
       "113         Brown           12-15   \n",
       "114         Brown           12-15   \n",
       "115         Brown           12-14   \n",
       "116         Brown           12-14   \n",
       "\n",
       "                                  Character Traits  \\\n",
       "112    Intelligent, energetic, good-natured, loyal   \n",
       "113  Intelligent, energetic, playful, good-natured   \n",
       "114  Intelligent, energetic, playful, good-natured   \n",
       "115    Intelligent, energetic, good-natured, loyal   \n",
       "116    Intelligent, energetic, good-natured, loyal   \n",
       "\n",
       "                          Common Health Problems  \n",
       "112  Dental problems, eye issues, skin allergies  \n",
       "113  Dental problems, eye issues, skin allergies  \n",
       "114  Dental problems, eye issues, skin allergies  \n",
       "115  Dental problems, eye issues, skin allergies  \n",
       "116  Dental problems, eye issues, skin allergies  "
      ]
     },
     "execution_count": 185,
     "metadata": {},
     "output_type": "execute_result"
    }
   ],
   "source": [
    "df.tail()"
   ]
  },
  {
   "cell_type": "code",
   "execution_count": 186,
   "metadata": {},
   "outputs": [
    {
     "data": {
      "text/html": [
       "<div>\n",
       "<style scoped>\n",
       "    .dataframe tbody tr th:only-of-type {\n",
       "        vertical-align: middle;\n",
       "    }\n",
       "\n",
       "    .dataframe tbody tr th {\n",
       "        vertical-align: top;\n",
       "    }\n",
       "\n",
       "    .dataframe thead th {\n",
       "        text-align: right;\n",
       "    }\n",
       "</style>\n",
       "<table border=\"1\" class=\"dataframe\">\n",
       "  <thead>\n",
       "    <tr style=\"text-align: right;\">\n",
       "      <th></th>\n",
       "      <th>Breed</th>\n",
       "      <th>Country of Origin</th>\n",
       "      <th>Fur Color</th>\n",
       "      <th>Height (in)</th>\n",
       "      <th>Color of Eyes</th>\n",
       "      <th>Longevity (yrs)</th>\n",
       "      <th>Character Traits</th>\n",
       "      <th>Common Health Problems</th>\n",
       "    </tr>\n",
       "  </thead>\n",
       "  <tbody>\n",
       "    <tr>\n",
       "      <th>count</th>\n",
       "      <td>117</td>\n",
       "      <td>117</td>\n",
       "      <td>117</td>\n",
       "      <td>117</td>\n",
       "      <td>117</td>\n",
       "      <td>117</td>\n",
       "      <td>117</td>\n",
       "      <td>117</td>\n",
       "    </tr>\n",
       "    <tr>\n",
       "      <th>unique</th>\n",
       "      <td>103</td>\n",
       "      <td>27</td>\n",
       "      <td>69</td>\n",
       "      <td>67</td>\n",
       "      <td>4</td>\n",
       "      <td>15</td>\n",
       "      <td>38</td>\n",
       "      <td>30</td>\n",
       "    </tr>\n",
       "    <tr>\n",
       "      <th>top</th>\n",
       "      <td>Australian Shepherd</td>\n",
       "      <td>England</td>\n",
       "      <td>White</td>\n",
       "      <td>10-12</td>\n",
       "      <td>Brown</td>\n",
       "      <td>12-15</td>\n",
       "      <td>Intelligent, energetic, playful, good-natured</td>\n",
       "      <td>Dental problems, eye issues, skin allergies</td>\n",
       "    </tr>\n",
       "    <tr>\n",
       "      <th>freq</th>\n",
       "      <td>3</td>\n",
       "      <td>24</td>\n",
       "      <td>9</td>\n",
       "      <td>8</td>\n",
       "      <td>108</td>\n",
       "      <td>44</td>\n",
       "      <td>50</td>\n",
       "      <td>59</td>\n",
       "    </tr>\n",
       "  </tbody>\n",
       "</table>\n",
       "</div>"
      ],
      "text/plain": [
       "                      Breed Country of Origin Fur Color Height (in)  \\\n",
       "count                   117               117       117         117   \n",
       "unique                  103                27        69          67   \n",
       "top     Australian Shepherd           England     White       10-12   \n",
       "freq                      3                24         9           8   \n",
       "\n",
       "       Color of Eyes Longevity (yrs)  \\\n",
       "count            117             117   \n",
       "unique             4              15   \n",
       "top            Brown           12-15   \n",
       "freq             108              44   \n",
       "\n",
       "                                     Character Traits  \\\n",
       "count                                             117   \n",
       "unique                                             38   \n",
       "top     Intelligent, energetic, playful, good-natured   \n",
       "freq                                               50   \n",
       "\n",
       "                             Common Health Problems  \n",
       "count                                           117  \n",
       "unique                                           30  \n",
       "top     Dental problems, eye issues, skin allergies  \n",
       "freq                                             59  "
      ]
     },
     "execution_count": 186,
     "metadata": {},
     "output_type": "execute_result"
    }
   ],
   "source": [
    "df.describe()"
   ]
  },
  {
   "cell_type": "code",
   "execution_count": 187,
   "metadata": {},
   "outputs": [
    {
     "name": "stdout",
     "output_type": "stream",
     "text": [
      "<class 'pandas.core.frame.DataFrame'>\n",
      "RangeIndex: 117 entries, 0 to 116\n",
      "Data columns (total 8 columns):\n",
      " #   Column                  Non-Null Count  Dtype \n",
      "---  ------                  --------------  ----- \n",
      " 0   Breed                   117 non-null    object\n",
      " 1   Country of Origin       117 non-null    object\n",
      " 2   Fur Color               117 non-null    object\n",
      " 3   Height (in)             117 non-null    object\n",
      " 4   Color of Eyes           117 non-null    object\n",
      " 5   Longevity (yrs)         117 non-null    object\n",
      " 6   Character Traits        117 non-null    object\n",
      " 7   Common Health Problems  117 non-null    object\n",
      "dtypes: object(8)\n",
      "memory usage: 7.4+ KB\n"
     ]
    }
   ],
   "source": [
    "df.info()"
   ]
  },
  {
   "cell_type": "markdown",
   "metadata": {},
   "source": [
    "**Observations**\n",
    "\n",
    "117 observations, 8 features\n",
    "\n",
    "+ In this dataset we have several features that are semi structured:\n",
    " + Fur Color, Color of Eyes, Character Traits, Common Heatlh Problems\n",
    "\n",
    "Semi Structured data will need to be transformed into structured data with pandas to complete our analysis.\n",
    "\n",
    "+ Numerical features represented as range\n",
    " + This object data type will be transformed into low and high numeric values\n"
   ]
  },
  {
   "cell_type": "markdown",
   "metadata": {},
   "source": [
    "### Preprocessing"
   ]
  },
  {
   "cell_type": "markdown",
   "metadata": {},
   "source": [
    "#### Columns name to lowercase"
   ]
  },
  {
   "cell_type": "code",
   "execution_count": 188,
   "metadata": {},
   "outputs": [
    {
     "data": {
      "text/html": [
       "<div>\n",
       "<style scoped>\n",
       "    .dataframe tbody tr th:only-of-type {\n",
       "        vertical-align: middle;\n",
       "    }\n",
       "\n",
       "    .dataframe tbody tr th {\n",
       "        vertical-align: top;\n",
       "    }\n",
       "\n",
       "    .dataframe thead th {\n",
       "        text-align: right;\n",
       "    }\n",
       "</style>\n",
       "<table border=\"1\" class=\"dataframe\">\n",
       "  <thead>\n",
       "    <tr style=\"text-align: right;\">\n",
       "      <th></th>\n",
       "      <th>breed</th>\n",
       "      <th>country of origin</th>\n",
       "      <th>fur color</th>\n",
       "      <th>height (in)</th>\n",
       "      <th>color of eyes</th>\n",
       "      <th>longevity (yrs)</th>\n",
       "      <th>character traits</th>\n",
       "      <th>common health problems</th>\n",
       "    </tr>\n",
       "  </thead>\n",
       "  <tbody>\n",
       "    <tr>\n",
       "      <th>0</th>\n",
       "      <td>Labrador Retriever</td>\n",
       "      <td>Canada</td>\n",
       "      <td>Yellow, Black, Chocolate</td>\n",
       "      <td>21-24</td>\n",
       "      <td>Brown</td>\n",
       "      <td>10-12</td>\n",
       "      <td>Loyal, friendly, intelligent, energetic, good-...</td>\n",
       "      <td>Hip dysplasia, obesity, ear infections</td>\n",
       "    </tr>\n",
       "    <tr>\n",
       "      <th>1</th>\n",
       "      <td>German Shepherd</td>\n",
       "      <td>Germany</td>\n",
       "      <td>Black, Tan</td>\n",
       "      <td>22-26</td>\n",
       "      <td>Brown</td>\n",
       "      <td>7-10</td>\n",
       "      <td>Loyal, intelligent, protective, confident, tra...</td>\n",
       "      <td>Hip dysplasia, elbow dysplasia, pancreatitis</td>\n",
       "    </tr>\n",
       "    <tr>\n",
       "      <th>2</th>\n",
       "      <td>Bulldog</td>\n",
       "      <td>England</td>\n",
       "      <td>White, Red</td>\n",
       "      <td>12-16</td>\n",
       "      <td>Brown</td>\n",
       "      <td>8-10</td>\n",
       "      <td>Loyal, calm, gentle, brave</td>\n",
       "      <td>Skin allergies, respiratory issues, obesity</td>\n",
       "    </tr>\n",
       "  </tbody>\n",
       "</table>\n",
       "</div>"
      ],
      "text/plain": [
       "                breed country of origin                 fur color height (in)  \\\n",
       "0  Labrador Retriever            Canada  Yellow, Black, Chocolate       21-24   \n",
       "1     German Shepherd           Germany                Black, Tan       22-26   \n",
       "2             Bulldog           England                White, Red       12-16   \n",
       "\n",
       "  color of eyes longevity (yrs)  \\\n",
       "0         Brown           10-12   \n",
       "1         Brown            7-10   \n",
       "2         Brown            8-10   \n",
       "\n",
       "                                    character traits  \\\n",
       "0  Loyal, friendly, intelligent, energetic, good-...   \n",
       "1  Loyal, intelligent, protective, confident, tra...   \n",
       "2                         Loyal, calm, gentle, brave   \n",
       "\n",
       "                         common health problems  \n",
       "0        Hip dysplasia, obesity, ear infections  \n",
       "1  Hip dysplasia, elbow dysplasia, pancreatitis  \n",
       "2   Skin allergies, respiratory issues, obesity  "
      ]
     },
     "execution_count": 188,
     "metadata": {},
     "output_type": "execute_result"
    }
   ],
   "source": [
    "df.columns = pd.Series(df.columns).str.lower()\n",
    "df.head(3)"
   ]
  },
  {
   "cell_type": "markdown",
   "metadata": {},
   "source": [
    "#### Create `df` copy"
   ]
  },
  {
   "cell_type": "code",
   "execution_count": 189,
   "metadata": {},
   "outputs": [],
   "source": [
    "df_all = df.copy()"
   ]
  },
  {
   "cell_type": "markdown",
   "metadata": {},
   "source": []
  },
  {
   "cell_type": "markdown",
   "metadata": {},
   "source": [
    "### EDA"
   ]
  },
  {
   "cell_type": "markdown",
   "metadata": {},
   "source": [
    "#### Color Palette\n",
    "\n",
    "Let's check predefined styles available in the matplotlib library:"
   ]
  },
  {
   "cell_type": "code",
   "execution_count": 190,
   "metadata": {},
   "outputs": [
    {
     "data": {
      "text/plain": [
       "['Solarize_Light2',\n",
       " '_classic_test_patch',\n",
       " '_mpl-gallery',\n",
       " '_mpl-gallery-nogrid',\n",
       " 'bmh',\n",
       " 'classic',\n",
       " 'dark_background',\n",
       " 'fast',\n",
       " 'fivethirtyeight',\n",
       " 'ggplot',\n",
       " 'grayscale',\n",
       " 'seaborn-v0_8',\n",
       " 'seaborn-v0_8-bright',\n",
       " 'seaborn-v0_8-colorblind',\n",
       " 'seaborn-v0_8-dark',\n",
       " 'seaborn-v0_8-dark-palette',\n",
       " 'seaborn-v0_8-darkgrid',\n",
       " 'seaborn-v0_8-deep',\n",
       " 'seaborn-v0_8-muted',\n",
       " 'seaborn-v0_8-notebook',\n",
       " 'seaborn-v0_8-paper',\n",
       " 'seaborn-v0_8-pastel',\n",
       " 'seaborn-v0_8-poster',\n",
       " 'seaborn-v0_8-talk',\n",
       " 'seaborn-v0_8-ticks',\n",
       " 'seaborn-v0_8-white',\n",
       " 'seaborn-v0_8-whitegrid',\n",
       " 'tableau-colorblind10']"
      ]
     },
     "execution_count": 190,
     "metadata": {},
     "output_type": "execute_result"
    }
   ],
   "source": [
    "plt.style.available"
   ]
  },
  {
   "cell_type": "code",
   "execution_count": 191,
   "metadata": {},
   "outputs": [],
   "source": [
    "plt.style.use('Solarize_Light2')"
   ]
  },
  {
   "cell_type": "code",
   "execution_count": 192,
   "metadata": {},
   "outputs": [],
   "source": [
    "pal = ['#D7AE51','#D2A0A8','#6B4755','#2B2F47','#2160CC']"
   ]
  },
  {
   "cell_type": "markdown",
   "metadata": {},
   "source": []
  },
  {
   "cell_type": "markdown",
   "metadata": {},
   "source": [
    "### Uni-varitate Analysis"
   ]
  },
  {
   "cell_type": "markdown",
   "metadata": {},
   "source": [
    "#### Fur Color"
   ]
  },
  {
   "cell_type": "markdown",
   "metadata": {},
   "source": [
    "Fur color column consists of multiple elements present in single cell seperated by commas `(' , ')`.\n",
    "\n",
    "We need to split this by using split function within the cell."
   ]
  },
  {
   "cell_type": "code",
   "execution_count": 193,
   "metadata": {},
   "outputs": [],
   "source": [
    "df['fur color'] = df['fur color'].str.split(', ')\n",
    "df_all['fur color'] = df_all['fur color'].str.split(', ')"
   ]
  },
  {
   "cell_type": "code",
   "execution_count": 194,
   "metadata": {},
   "outputs": [
    {
     "data": {
      "text/html": [
       "<div>\n",
       "<style scoped>\n",
       "    .dataframe tbody tr th:only-of-type {\n",
       "        vertical-align: middle;\n",
       "    }\n",
       "\n",
       "    .dataframe tbody tr th {\n",
       "        vertical-align: top;\n",
       "    }\n",
       "\n",
       "    .dataframe thead th {\n",
       "        text-align: right;\n",
       "    }\n",
       "</style>\n",
       "<table border=\"1\" class=\"dataframe\">\n",
       "  <thead>\n",
       "    <tr style=\"text-align: right;\">\n",
       "      <th></th>\n",
       "      <th>breed</th>\n",
       "      <th>country of origin</th>\n",
       "      <th>fur color</th>\n",
       "      <th>height (in)</th>\n",
       "      <th>color of eyes</th>\n",
       "      <th>longevity (yrs)</th>\n",
       "      <th>character traits</th>\n",
       "      <th>common health problems</th>\n",
       "    </tr>\n",
       "  </thead>\n",
       "  <tbody>\n",
       "    <tr>\n",
       "      <th>0</th>\n",
       "      <td>Labrador Retriever</td>\n",
       "      <td>Canada</td>\n",
       "      <td>[Yellow, Black, Chocolate]</td>\n",
       "      <td>21-24</td>\n",
       "      <td>Brown</td>\n",
       "      <td>10-12</td>\n",
       "      <td>Loyal, friendly, intelligent, energetic, good-...</td>\n",
       "      <td>Hip dysplasia, obesity, ear infections</td>\n",
       "    </tr>\n",
       "    <tr>\n",
       "      <th>1</th>\n",
       "      <td>German Shepherd</td>\n",
       "      <td>Germany</td>\n",
       "      <td>[Black, Tan]</td>\n",
       "      <td>22-26</td>\n",
       "      <td>Brown</td>\n",
       "      <td>7-10</td>\n",
       "      <td>Loyal, intelligent, protective, confident, tra...</td>\n",
       "      <td>Hip dysplasia, elbow dysplasia, pancreatitis</td>\n",
       "    </tr>\n",
       "    <tr>\n",
       "      <th>2</th>\n",
       "      <td>Bulldog</td>\n",
       "      <td>England</td>\n",
       "      <td>[White, Red]</td>\n",
       "      <td>12-16</td>\n",
       "      <td>Brown</td>\n",
       "      <td>8-10</td>\n",
       "      <td>Loyal, calm, gentle, brave</td>\n",
       "      <td>Skin allergies, respiratory issues, obesity</td>\n",
       "    </tr>\n",
       "    <tr>\n",
       "      <th>3</th>\n",
       "      <td>Poodle</td>\n",
       "      <td>France</td>\n",
       "      <td>[White, Black, Brown, Apricot]</td>\n",
       "      <td>10-15</td>\n",
       "      <td>Brown, Blue</td>\n",
       "      <td>12-15</td>\n",
       "      <td>Intelligent, active, affectionate, hypoallergenic</td>\n",
       "      <td>Hip dysplasia, epilepsy, bladder stones</td>\n",
       "    </tr>\n",
       "    <tr>\n",
       "      <th>4</th>\n",
       "      <td>Beagle</td>\n",
       "      <td>England</td>\n",
       "      <td>[White, Tan, Red, Lemon]</td>\n",
       "      <td>13-15</td>\n",
       "      <td>Brown</td>\n",
       "      <td>12-15</td>\n",
       "      <td>Curious, friendly, energetic, good-natured</td>\n",
       "      <td>Ear infections, hip dysplasia, epilepsy</td>\n",
       "    </tr>\n",
       "  </tbody>\n",
       "</table>\n",
       "</div>"
      ],
      "text/plain": [
       "                breed country of origin                       fur color  \\\n",
       "0  Labrador Retriever            Canada      [Yellow, Black, Chocolate]   \n",
       "1     German Shepherd           Germany                    [Black, Tan]   \n",
       "2             Bulldog           England                    [White, Red]   \n",
       "3              Poodle            France  [White, Black, Brown, Apricot]   \n",
       "4              Beagle           England        [White, Tan, Red, Lemon]   \n",
       "\n",
       "  height (in) color of eyes longevity (yrs)  \\\n",
       "0       21-24         Brown           10-12   \n",
       "1       22-26         Brown            7-10   \n",
       "2       12-16         Brown            8-10   \n",
       "3       10-15   Brown, Blue           12-15   \n",
       "4       13-15         Brown           12-15   \n",
       "\n",
       "                                    character traits  \\\n",
       "0  Loyal, friendly, intelligent, energetic, good-...   \n",
       "1  Loyal, intelligent, protective, confident, tra...   \n",
       "2                         Loyal, calm, gentle, brave   \n",
       "3  Intelligent, active, affectionate, hypoallergenic   \n",
       "4         Curious, friendly, energetic, good-natured   \n",
       "\n",
       "                         common health problems  \n",
       "0        Hip dysplasia, obesity, ear infections  \n",
       "1  Hip dysplasia, elbow dysplasia, pancreatitis  \n",
       "2   Skin allergies, respiratory issues, obesity  \n",
       "3       Hip dysplasia, epilepsy, bladder stones  \n",
       "4       Ear infections, hip dysplasia, epilepsy  "
      ]
     },
     "execution_count": 194,
     "metadata": {},
     "output_type": "execute_result"
    }
   ],
   "source": [
    "df.head()"
   ]
  },
  {
   "cell_type": "code",
   "execution_count": 195,
   "metadata": {},
   "outputs": [
    {
     "data": {
      "text/html": [
       "<div>\n",
       "<style scoped>\n",
       "    .dataframe tbody tr th:only-of-type {\n",
       "        vertical-align: middle;\n",
       "    }\n",
       "\n",
       "    .dataframe tbody tr th {\n",
       "        vertical-align: top;\n",
       "    }\n",
       "\n",
       "    .dataframe thead th {\n",
       "        text-align: right;\n",
       "    }\n",
       "</style>\n",
       "<table border=\"1\" class=\"dataframe\">\n",
       "  <thead>\n",
       "    <tr style=\"text-align: right;\">\n",
       "      <th></th>\n",
       "      <th>breed</th>\n",
       "      <th>country of origin</th>\n",
       "      <th>fur color</th>\n",
       "      <th>height (in)</th>\n",
       "      <th>color of eyes</th>\n",
       "      <th>longevity (yrs)</th>\n",
       "      <th>character traits</th>\n",
       "      <th>common health problems</th>\n",
       "    </tr>\n",
       "  </thead>\n",
       "  <tbody>\n",
       "    <tr>\n",
       "      <th>0</th>\n",
       "      <td>Labrador Retriever</td>\n",
       "      <td>Canada</td>\n",
       "      <td>[Yellow, Black, Chocolate]</td>\n",
       "      <td>21-24</td>\n",
       "      <td>Brown</td>\n",
       "      <td>10-12</td>\n",
       "      <td>Loyal, friendly, intelligent, energetic, good-...</td>\n",
       "      <td>Hip dysplasia, obesity, ear infections</td>\n",
       "    </tr>\n",
       "    <tr>\n",
       "      <th>1</th>\n",
       "      <td>German Shepherd</td>\n",
       "      <td>Germany</td>\n",
       "      <td>[Black, Tan]</td>\n",
       "      <td>22-26</td>\n",
       "      <td>Brown</td>\n",
       "      <td>7-10</td>\n",
       "      <td>Loyal, intelligent, protective, confident, tra...</td>\n",
       "      <td>Hip dysplasia, elbow dysplasia, pancreatitis</td>\n",
       "    </tr>\n",
       "    <tr>\n",
       "      <th>2</th>\n",
       "      <td>Bulldog</td>\n",
       "      <td>England</td>\n",
       "      <td>[White, Red]</td>\n",
       "      <td>12-16</td>\n",
       "      <td>Brown</td>\n",
       "      <td>8-10</td>\n",
       "      <td>Loyal, calm, gentle, brave</td>\n",
       "      <td>Skin allergies, respiratory issues, obesity</td>\n",
       "    </tr>\n",
       "    <tr>\n",
       "      <th>3</th>\n",
       "      <td>Poodle</td>\n",
       "      <td>France</td>\n",
       "      <td>[White, Black, Brown, Apricot]</td>\n",
       "      <td>10-15</td>\n",
       "      <td>Brown, Blue</td>\n",
       "      <td>12-15</td>\n",
       "      <td>Intelligent, active, affectionate, hypoallergenic</td>\n",
       "      <td>Hip dysplasia, epilepsy, bladder stones</td>\n",
       "    </tr>\n",
       "    <tr>\n",
       "      <th>4</th>\n",
       "      <td>Beagle</td>\n",
       "      <td>England</td>\n",
       "      <td>[White, Tan, Red, Lemon]</td>\n",
       "      <td>13-15</td>\n",
       "      <td>Brown</td>\n",
       "      <td>12-15</td>\n",
       "      <td>Curious, friendly, energetic, good-natured</td>\n",
       "      <td>Ear infections, hip dysplasia, epilepsy</td>\n",
       "    </tr>\n",
       "  </tbody>\n",
       "</table>\n",
       "</div>"
      ],
      "text/plain": [
       "                breed country of origin                       fur color  \\\n",
       "0  Labrador Retriever            Canada      [Yellow, Black, Chocolate]   \n",
       "1     German Shepherd           Germany                    [Black, Tan]   \n",
       "2             Bulldog           England                    [White, Red]   \n",
       "3              Poodle            France  [White, Black, Brown, Apricot]   \n",
       "4              Beagle           England        [White, Tan, Red, Lemon]   \n",
       "\n",
       "  height (in) color of eyes longevity (yrs)  \\\n",
       "0       21-24         Brown           10-12   \n",
       "1       22-26         Brown            7-10   \n",
       "2       12-16         Brown            8-10   \n",
       "3       10-15   Brown, Blue           12-15   \n",
       "4       13-15         Brown           12-15   \n",
       "\n",
       "                                    character traits  \\\n",
       "0  Loyal, friendly, intelligent, energetic, good-...   \n",
       "1  Loyal, intelligent, protective, confident, tra...   \n",
       "2                         Loyal, calm, gentle, brave   \n",
       "3  Intelligent, active, affectionate, hypoallergenic   \n",
       "4         Curious, friendly, energetic, good-natured   \n",
       "\n",
       "                         common health problems  \n",
       "0        Hip dysplasia, obesity, ear infections  \n",
       "1  Hip dysplasia, elbow dysplasia, pancreatitis  \n",
       "2   Skin allergies, respiratory issues, obesity  \n",
       "3       Hip dysplasia, epilepsy, bladder stones  \n",
       "4       Ear infections, hip dysplasia, epilepsy  "
      ]
     },
     "execution_count": 195,
     "metadata": {},
     "output_type": "execute_result"
    }
   ],
   "source": [
    "df_all.head()"
   ]
  },
  {
   "cell_type": "code",
   "execution_count": 196,
   "metadata": {},
   "outputs": [
    {
     "name": "stdout",
     "output_type": "stream",
     "text": [
      "df shape before (117, 8)\n",
      "df all shape before (117, 8)\n",
      "df shape after (250, 8)\n",
      "df all shape after (250, 8)\n"
     ]
    }
   ],
   "source": [
    "print('df shape before', df.shape)\n",
    "print('df all shape before', df_all.shape)\n",
    "\n",
    "df0 = df.explode('fur color')\n",
    "df_all0 = df_all.explode('fur color')\n",
    "\n",
    "print('df shape after', df0.shape)\n",
    "print('df all shape after', df_all0.shape)\n",
    "\n"
   ]
  },
  {
   "cell_type": "code",
   "execution_count": 197,
   "metadata": {},
   "outputs": [
    {
     "data": {
      "text/html": [
       "<div>\n",
       "<style scoped>\n",
       "    .dataframe tbody tr th:only-of-type {\n",
       "        vertical-align: middle;\n",
       "    }\n",
       "\n",
       "    .dataframe tbody tr th {\n",
       "        vertical-align: top;\n",
       "    }\n",
       "\n",
       "    .dataframe thead th {\n",
       "        text-align: right;\n",
       "    }\n",
       "</style>\n",
       "<table border=\"1\" class=\"dataframe\">\n",
       "  <thead>\n",
       "    <tr style=\"text-align: right;\">\n",
       "      <th></th>\n",
       "      <th>breed</th>\n",
       "      <th>country of origin</th>\n",
       "      <th>fur color</th>\n",
       "      <th>height (in)</th>\n",
       "      <th>color of eyes</th>\n",
       "      <th>longevity (yrs)</th>\n",
       "      <th>character traits</th>\n",
       "      <th>common health problems</th>\n",
       "    </tr>\n",
       "  </thead>\n",
       "  <tbody>\n",
       "    <tr>\n",
       "      <th>0</th>\n",
       "      <td>Labrador Retriever</td>\n",
       "      <td>Canada</td>\n",
       "      <td>Yellow</td>\n",
       "      <td>21-24</td>\n",
       "      <td>Brown</td>\n",
       "      <td>10-12</td>\n",
       "      <td>Loyal, friendly, intelligent, energetic, good-...</td>\n",
       "      <td>Hip dysplasia, obesity, ear infections</td>\n",
       "    </tr>\n",
       "    <tr>\n",
       "      <th>0</th>\n",
       "      <td>Labrador Retriever</td>\n",
       "      <td>Canada</td>\n",
       "      <td>Black</td>\n",
       "      <td>21-24</td>\n",
       "      <td>Brown</td>\n",
       "      <td>10-12</td>\n",
       "      <td>Loyal, friendly, intelligent, energetic, good-...</td>\n",
       "      <td>Hip dysplasia, obesity, ear infections</td>\n",
       "    </tr>\n",
       "    <tr>\n",
       "      <th>0</th>\n",
       "      <td>Labrador Retriever</td>\n",
       "      <td>Canada</td>\n",
       "      <td>Chocolate</td>\n",
       "      <td>21-24</td>\n",
       "      <td>Brown</td>\n",
       "      <td>10-12</td>\n",
       "      <td>Loyal, friendly, intelligent, energetic, good-...</td>\n",
       "      <td>Hip dysplasia, obesity, ear infections</td>\n",
       "    </tr>\n",
       "    <tr>\n",
       "      <th>1</th>\n",
       "      <td>German Shepherd</td>\n",
       "      <td>Germany</td>\n",
       "      <td>Black</td>\n",
       "      <td>22-26</td>\n",
       "      <td>Brown</td>\n",
       "      <td>7-10</td>\n",
       "      <td>Loyal, intelligent, protective, confident, tra...</td>\n",
       "      <td>Hip dysplasia, elbow dysplasia, pancreatitis</td>\n",
       "    </tr>\n",
       "    <tr>\n",
       "      <th>1</th>\n",
       "      <td>German Shepherd</td>\n",
       "      <td>Germany</td>\n",
       "      <td>Tan</td>\n",
       "      <td>22-26</td>\n",
       "      <td>Brown</td>\n",
       "      <td>7-10</td>\n",
       "      <td>Loyal, intelligent, protective, confident, tra...</td>\n",
       "      <td>Hip dysplasia, elbow dysplasia, pancreatitis</td>\n",
       "    </tr>\n",
       "  </tbody>\n",
       "</table>\n",
       "</div>"
      ],
      "text/plain": [
       "                breed country of origin  fur color height (in) color of eyes  \\\n",
       "0  Labrador Retriever            Canada     Yellow       21-24         Brown   \n",
       "0  Labrador Retriever            Canada      Black       21-24         Brown   \n",
       "0  Labrador Retriever            Canada  Chocolate       21-24         Brown   \n",
       "1     German Shepherd           Germany      Black       22-26         Brown   \n",
       "1     German Shepherd           Germany        Tan       22-26         Brown   \n",
       "\n",
       "  longevity (yrs)                                   character traits  \\\n",
       "0           10-12  Loyal, friendly, intelligent, energetic, good-...   \n",
       "0           10-12  Loyal, friendly, intelligent, energetic, good-...   \n",
       "0           10-12  Loyal, friendly, intelligent, energetic, good-...   \n",
       "1            7-10  Loyal, intelligent, protective, confident, tra...   \n",
       "1            7-10  Loyal, intelligent, protective, confident, tra...   \n",
       "\n",
       "                         common health problems  \n",
       "0        Hip dysplasia, obesity, ear infections  \n",
       "0        Hip dysplasia, obesity, ear infections  \n",
       "0        Hip dysplasia, obesity, ear infections  \n",
       "1  Hip dysplasia, elbow dysplasia, pancreatitis  \n",
       "1  Hip dysplasia, elbow dysplasia, pancreatitis  "
      ]
     },
     "execution_count": 197,
     "metadata": {},
     "output_type": "execute_result"
    }
   ],
   "source": [
    "df0.head()"
   ]
  },
  {
   "cell_type": "code",
   "execution_count": 198,
   "metadata": {},
   "outputs": [
    {
     "data": {
      "text/plain": [
       "(array([ 0,  1,  2,  3,  4,  5,  6,  7,  8,  9, 10, 11, 12, 13, 14, 15, 16,\n",
       "        17, 18, 19, 20, 21, 22, 23, 24, 25, 26, 27, 28, 29, 30, 31, 32, 33]),\n",
       " [Text(0, 0, 'Black'),\n",
       "  Text(1, 0, 'Red'),\n",
       "  Text(2, 0, 'White'),\n",
       "  Text(3, 0, 'Brown'),\n",
       "  Text(4, 0, 'Fawn'),\n",
       "  Text(5, 0, 'Tan'),\n",
       "  Text(6, 0, 'Liver'),\n",
       "  Text(7, 0, 'Blue'),\n",
       "  Text(8, 0, 'Grey'),\n",
       "  Text(9, 0, 'Sable'),\n",
       "  Text(10, 0, 'Apricot'),\n",
       "  Text(11, 0, 'Cream'),\n",
       "  Text(12, 0, 'Black & Tan'),\n",
       "  Text(13, 0, 'Brindle'),\n",
       "  Text(14, 0, 'Salt & Pepper'),\n",
       "  Text(15, 0, 'Sesame'),\n",
       "  Text(16, 0, 'Wheaten'),\n",
       "  Text(17, 0, 'Golden'),\n",
       "  Text(18, 0, 'Yellow'),\n",
       "  Text(19, 0, 'Orange'),\n",
       "  Text(20, 0, 'Chocolate'),\n",
       "  Text(21, 0, 'Lemon'),\n",
       "  Text(22, 0, 'Harlequin'),\n",
       "  Text(23, 0, 'Light Wheaten'),\n",
       "  Text(24, 0, 'Silver'),\n",
       "  Text(25, 0, 'Mahogany'),\n",
       "  Text(26, 0, 'Pink'),\n",
       "  Text(27, 0, 'Blenheim'),\n",
       "  Text(28, 0, 'Gold'),\n",
       "  Text(29, 0, 'Blue Merle'),\n",
       "  Text(30, 0, 'Stag Red'),\n",
       "  Text(31, 0, 'Blue & Tan'),\n",
       "  Text(32, 0, 'Black & White'),\n",
       "  Text(33, 0, 'Merle')])"
      ]
     },
     "execution_count": 198,
     "metadata": {},
     "output_type": "execute_result"
    },
    {
     "data": {
      "image/png": "[encoded data removed]",
      "text/plain": [
       "<Figure size 1000x400 with 1 Axes>"
      ]
     },
     "metadata": {},
     "output_type": "display_data"
    }
   ],
   "source": [
    "df0['fur color'].value_counts().plot(kind='bar', color=pal[2], figsize=(10,4))\n",
    "plt.title('fur color', fontsize=20)\n",
    "plt.xticks(rotation=75)\n"
   ]
  },
  {
   "cell_type": "code",
   "execution_count": 199,
   "metadata": {},
   "outputs": [
    {
     "data": {
      "text/plain": [
       "fur color\n",
       "Black            0.244\n",
       "Red              0.192\n",
       "White            0.168\n",
       "Brown            0.056\n",
       "Fawn             0.040\n",
       "Tan              0.040\n",
       "Liver            0.028\n",
       "Blue             0.028\n",
       "Grey             0.024\n",
       "Sable            0.020\n",
       "Apricot          0.020\n",
       "Cream            0.016\n",
       "Black & Tan      0.012\n",
       "Brindle          0.012\n",
       "Salt & Pepper    0.012\n",
       "Sesame           0.008\n",
       "Wheaten          0.008\n",
       "Golden           0.008\n",
       "Yellow           0.004\n",
       "Orange           0.004\n",
       "Chocolate        0.004\n",
       "Lemon            0.004\n",
       "Harlequin        0.004\n",
       "Light Wheaten    0.004\n",
       "Silver           0.004\n",
       "Mahogany         0.004\n",
       "Pink             0.004\n",
       "Blenheim         0.004\n",
       "Gold             0.004\n",
       "Blue Merle       0.004\n",
       "Stag Red         0.004\n",
       "Blue & Tan       0.004\n",
       "Black & White    0.004\n",
       "Merle            0.004\n",
       "Name: proportion, dtype: float64"
      ]
     },
     "execution_count": 199,
     "metadata": {},
     "output_type": "execute_result"
    }
   ],
   "source": [
    "df0['fur color'].value_counts(normalize=True)"
   ]
  },
  {
   "cell_type": "code",
   "execution_count": 200,
   "metadata": {},
   "outputs": [
    {
     "data": {
      "text/plain": [
       "country of origin\n",
       "England          58\n",
       "Germany          31\n",
       "France           30\n",
       "Australia        16\n",
       "China            15\n",
       "Scotland         15\n",
       "Ireland          10\n",
       "Wales             9\n",
       "United States     9\n",
       "Japan             7\n",
       "Belgium           7\n",
       "Mexico            6\n",
       "Russia            6\n",
       "Canada            6\n",
       "Italy             4\n",
       "Switzerland       2\n",
       "Middle East       2\n",
       "Netherlands       2\n",
       "Finland           2\n",
       "Malta             2\n",
       "Africa            2\n",
       "Hungary           2\n",
       "Tibet             2\n",
       "Congo             2\n",
       "Madagascar        1\n",
       "Rhodesia          1\n",
       "Turkey            1\n",
       "Name: count, dtype: int64"
      ]
     },
     "execution_count": 200,
     "metadata": {},
     "output_type": "execute_result"
    }
   ],
   "source": [
    "df0['country of origin'].value_counts()"
   ]
  },
  {
   "cell_type": "code",
   "execution_count": 201,
   "metadata": {},
   "outputs": [
    {
     "data": {
      "text/plain": [
       "Index(['England', 'Germany', 'France', 'Australia', 'China', 'Scotland',\n",
       "       'Ireland', 'Wales', 'United States', 'Japan', 'Belgium', 'Mexico',\n",
       "       'Russia', 'Canada', 'Italy', 'Switzerland', 'Middle East',\n",
       "       'Netherlands', 'Finland', 'Malta', 'Africa', 'Hungary', 'Tibet',\n",
       "       'Congo', 'Madagascar', 'Rhodesia', 'Turkey'],\n",
       "      dtype='object', name='country of origin')"
      ]
     },
     "execution_count": 201,
     "metadata": {},
     "output_type": "execute_result"
    }
   ],
   "source": [
    "df0['country of origin'].value_counts().index"
   ]
  },
  {
   "cell_type": "code",
   "execution_count": 202,
   "metadata": {},
   "outputs": [
    {
     "data": {
      "text/plain": [
       "fur color\n",
       "Black            32\n",
       "White            23\n",
       "Red              15\n",
       "Brown             7\n",
       "Liver             6\n",
       "Tan               5\n",
       "Apricot           5\n",
       "Fawn              3\n",
       "Blue              3\n",
       "Brindle           3\n",
       "Salt & Pepper     3\n",
       "Black & Tan       2\n",
       "Grey              2\n",
       "Sable             2\n",
       "Harlequin         1\n",
       "Orange            1\n",
       "Lemon             1\n",
       "Silver            1\n",
       "Wheaten           1\n",
       "Blenheim          1\n",
       "Stag Red          1\n",
       "Blue & Tan        1\n",
       "Name: count, dtype: int64"
      ]
     },
     "execution_count": 202,
     "metadata": {},
     "output_type": "execute_result"
    }
   ],
   "source": [
    "df0[df0['country of origin'].isin(['England','Germany','France'])]['fur color'].value_counts()"
   ]
  },
  {
   "cell_type": "markdown",
   "metadata": {},
   "source": [
    "**Observations**\n",
    "\n",
    "+ The most common fur colors in England, Germany & France are:\n",
    "    + Black, Red, and White"
   ]
  },
  {
   "cell_type": "markdown",
   "metadata": {},
   "source": []
  },
  {
   "cell_type": "markdown",
   "metadata": {},
   "source": [
    "### Color of Eyes"
   ]
  },
  {
   "cell_type": "code",
   "execution_count": 203,
   "metadata": {},
   "outputs": [],
   "source": [
    "df['color of eyes'] = df['color of eyes'].str.split(', ')\n",
    "df_all['color of eyes'] = df_all['color of eyes'].str.split(', ')"
   ]
  },
  {
   "cell_type": "code",
   "execution_count": 204,
   "metadata": {},
   "outputs": [
    {
     "name": "stdout",
     "output_type": "stream",
     "text": [
      "df shape before (117, 8)\n",
      "df all shape before (117, 8)\n",
      "df shape after (125, 8)\n",
      "df all shape after (125, 8)\n"
     ]
    }
   ],
   "source": [
    "print('df shape before', df.shape)\n",
    "print('df all shape before', df_all.shape)\n",
    "\n",
    "df0 = df.explode('color of eyes')\n",
    "df_all0 = df_all.explode('color of eyes')\n",
    "\n",
    "print('df shape after', df0.shape)\n",
    "print('df all shape after', df_all0.shape)"
   ]
  },
  {
   "cell_type": "code",
   "execution_count": 205,
   "metadata": {},
   "outputs": [
    {
     "data": {
      "text/plain": [
       "(array([0, 1, 2]),\n",
       " [Text(0, 0, 'Brown'), Text(1, 0, 'Blue'), Text(2, 0, 'Grey')])"
      ]
     },
     "execution_count": 205,
     "metadata": {},
     "output_type": "execute_result"
    },
    {
     "data": {
      "image/png": "[encoded data removed]",
      "text/plain": [
       "<Figure size 1000x400 with 1 Axes>"
      ]
     },
     "metadata": {},
     "output_type": "display_data"
    }
   ],
   "source": [
    "df0['color of eyes'].value_counts().plot(kind='bar', color=pal[2], figsize=(10,4))\n",
    "plt.title('color of eyes', fontsize=20)\n",
    "plt.xticks(rotation=75)"
   ]
  },
  {
   "cell_type": "code",
   "execution_count": 206,
   "metadata": {},
   "outputs": [
    {
     "data": {
      "text/plain": [
       "color of eyes\n",
       "Brown    0.920\n",
       "Blue     0.072\n",
       "Grey     0.008\n",
       "Name: proportion, dtype: float64"
      ]
     },
     "execution_count": 206,
     "metadata": {},
     "output_type": "execute_result"
    }
   ],
   "source": [
    "df0['color of eyes'].value_counts(normalize=True)"
   ]
  },
  {
   "cell_type": "markdown",
   "metadata": {},
   "source": [
    "**Observations**\n",
    "\n",
    "+ The majority of dogs eye colors are brown.  92%\n",
    "+ Minority are blue 7.2%\n",
    "+ and a very small portion have grey eyes 0.8%"
   ]
  },
  {
   "cell_type": "markdown",
   "metadata": {},
   "source": []
  },
  {
   "cell_type": "markdown",
   "metadata": {},
   "source": [
    "### Character Traits"
   ]
  },
  {
   "cell_type": "code",
   "execution_count": 207,
   "metadata": {},
   "outputs": [
    {
     "data": {
      "text/plain": [
       "Index(['breed', 'country of origin', 'fur color', 'height (in)',\n",
       "       'color of eyes', 'longevity (yrs)', 'character traits',\n",
       "       'common health problems'],\n",
       "      dtype='object')"
      ]
     },
     "execution_count": 207,
     "metadata": {},
     "output_type": "execute_result"
    }
   ],
   "source": [
    "df.columns"
   ]
  },
  {
   "cell_type": "code",
   "execution_count": 208,
   "metadata": {},
   "outputs": [],
   "source": [
    "df['character traits'] = df['character traits'].str.split(', ')\n",
    "df_all['character traits'] = df_all['character traits'].str.split(', ')"
   ]
  },
  {
   "cell_type": "code",
   "execution_count": 209,
   "metadata": {},
   "outputs": [
    {
     "name": "stdout",
     "output_type": "stream",
     "text": [
      "df shape before (117, 8)\n",
      "df all shape before (117, 8)\n",
      "df shape after (473, 8)\n",
      "df all shape after (473, 8)\n"
     ]
    }
   ],
   "source": [
    "print('df shape before', df.shape)\n",
    "print('df all shape before', df_all.shape)\n",
    "\n",
    "df0 = df.explode('character traits')\n",
    "df_all0 = df_all.explode('character traits')\n",
    "\n",
    "print('df shape after', df0.shape)\n",
    "print('df all shape after', df_all0.shape)"
   ]
  },
  {
   "cell_type": "code",
   "execution_count": 210,
   "metadata": {},
   "outputs": [],
   "source": [
    "df0['character traits'] = df0['character traits'].str.lower()\n"
   ]
  },
  {
   "cell_type": "code",
   "execution_count": 211,
   "metadata": {},
   "outputs": [
    {
     "data": {
      "text/plain": [
       "(array([ 0,  1,  2,  3,  4,  5,  6,  7,  8,  9, 10, 11, 12, 13, 14, 15, 16,\n",
       "        17, 18]),\n",
       " [Text(0, 0, 'intelligent'),\n",
       "  Text(1, 0, 'good-natured'),\n",
       "  Text(2, 0, 'energetic'),\n",
       "  Text(3, 0, 'playful'),\n",
       "  Text(4, 0, 'loyal'),\n",
       "  Text(5, 0, 'affectionate'),\n",
       "  Text(6, 0, 'gentle'),\n",
       "  Text(7, 0, 'protective'),\n",
       "  Text(8, 0, 'independent'),\n",
       "  Text(9, 0, 'active'),\n",
       "  Text(10, 0, 'confident'),\n",
       "  Text(11, 0, 'hypoallergenic'),\n",
       "  Text(12, 0, 'friendly'),\n",
       "  Text(13, 0, 'trainable'),\n",
       "  Text(14, 0, 'curious'),\n",
       "  Text(15, 0, 'sensitive'),\n",
       "  Text(16, 0, 'athletic'),\n",
       "  Text(17, 0, 'social'),\n",
       "  Text(18, 0, 'strong')])"
      ]
     },
     "execution_count": 211,
     "metadata": {},
     "output_type": "execute_result"
    },
    {
     "data": {
      "image/png": "[encoded data removed]",
      "text/plain": [
       "<Figure size 1600x400 with 1 Axes>"
      ]
     },
     "metadata": {},
     "output_type": "display_data"
    }
   ],
   "source": [
    "df0['character traits'].value_counts()[df0['character traits'].value_counts() >1].plot(kind='bar', color=pal[2], figsize=(16,4))\n",
    "plt.title('character traits', fontsize=20)\n",
    "plt.xticks(rotation=90)"
   ]
  },
  {
   "cell_type": "code",
   "execution_count": 212,
   "metadata": {},
   "outputs": [
    {
     "data": {
      "text/plain": [
       "character traits\n",
       "intelligent       0.226216\n",
       "good-natured      0.209302\n",
       "energetic         0.190275\n",
       "playful           0.122622\n",
       "loyal             0.090909\n",
       "affectionate      0.040169\n",
       "gentle            0.025370\n",
       "protective        0.019027\n",
       "independent       0.008457\n",
       "active            0.008457\n",
       "confident         0.008457\n",
       "hypoallergenic    0.008457\n",
       "friendly          0.006342\n",
       "trainable         0.004228\n",
       "curious           0.004228\n",
       "sensitive         0.004228\n",
       "athletic          0.004228\n",
       "social            0.004228\n",
       "strong            0.004228\n",
       "brave             0.002114\n",
       "calm              0.002114\n",
       "kind              0.002114\n",
       "charming          0.002114\n",
       "patient           0.002114\n",
       "Name: proportion, dtype: float64"
      ]
     },
     "execution_count": 212,
     "metadata": {},
     "output_type": "execute_result"
    }
   ],
   "source": [
    "df0['character traits'].value_counts(normalize=True)"
   ]
  },
  {
   "cell_type": "markdown",
   "metadata": {},
   "source": [
    "**Observations**\n",
    "\n",
    "+ intelligence, good-natured, energetic are the 3 most common character traits.\n",
    "+ calm, kind, charming, patient, brave are the least common character traits"
   ]
  },
  {
   "cell_type": "markdown",
   "metadata": {},
   "source": []
  },
  {
   "cell_type": "markdown",
   "metadata": {},
   "source": [
    "### Common Health Problems"
   ]
  },
  {
   "cell_type": "code",
   "execution_count": 213,
   "metadata": {},
   "outputs": [],
   "source": [
    "df['common health problems'] = df['common health problems'].str.split(', ')\n",
    "df_all['common health problems'] = df_all['common health problems'].str.split(', ')"
   ]
  },
  {
   "cell_type": "code",
   "execution_count": 214,
   "metadata": {},
   "outputs": [
    {
     "name": "stdout",
     "output_type": "stream",
     "text": [
      "df shape before (117, 8)\n",
      "df all shape before (117, 8)\n",
      "df shape after (351, 8)\n",
      "df all shape after (351, 8)\n"
     ]
    }
   ],
   "source": [
    "print('df shape before', df.shape)\n",
    "print('df all shape before', df_all.shape)\n",
    "\n",
    "df0 = df.explode('common health problems')\n",
    "df_all0 = df_all.explode('common health problems')\n",
    "\n",
    "print('df shape after', df0.shape)\n",
    "print('df all shape after', df_all0.shape)"
   ]
  },
  {
   "cell_type": "code",
   "execution_count": 215,
   "metadata": {},
   "outputs": [],
   "source": [
    "df0['common health problems'] = df0['common health problems'].str.lower()"
   ]
  },
  {
   "cell_type": "code",
   "execution_count": 216,
   "metadata": {},
   "outputs": [
    {
     "data": {
      "text/plain": [
       "(array([ 0,  1,  2,  3,  4,  5,  6,  7,  8,  9, 10, 11, 12, 13, 14]),\n",
       " [Text(0, 0, 'dental problems'),\n",
       "  Text(1, 0, 'skin allergies'),\n",
       "  Text(2, 0, 'eye issues'),\n",
       "  Text(3, 0, 'hip dysplasia'),\n",
       "  Text(4, 0, 'eye problems'),\n",
       "  Text(5, 0, 'cancer'),\n",
       "  Text(6, 0, 'heart conditions'),\n",
       "  Text(7, 0, 'respiratory issues'),\n",
       "  Text(8, 0, 'bladder stones'),\n",
       "  Text(9, 0, 'epilepsy'),\n",
       "  Text(10, 0, 'obesity'),\n",
       "  Text(11, 0, 'ear infections'),\n",
       "  Text(12, 0, 'diabetes'),\n",
       "  Text(13, 0, 'pancreatitis'),\n",
       "  Text(14, 0, 'elbow dysplasia')])"
      ]
     },
     "execution_count": 216,
     "metadata": {},
     "output_type": "execute_result"
    },
    {
     "data": {
      "image/png": "[encoded data removed]",
      "text/plain": [
       "<Figure size 1600x400 with 1 Axes>"
      ]
     },
     "metadata": {},
     "output_type": "display_data"
    }
   ],
   "source": [
    "df0['common health problems'].value_counts()[df0['common health problems'].value_counts() >1].plot(kind='bar', color=pal[2], figsize=(16,4))\n",
    "plt.title('character traits', fontsize=20)\n",
    "plt.xticks(rotation=90)"
   ]
  },
  {
   "cell_type": "markdown",
   "metadata": {},
   "source": []
  },
  {
   "cell_type": "markdown",
   "metadata": {},
   "source": [
    "### Heights (in)"
   ]
  },
  {
   "cell_type": "code",
   "execution_count": 217,
   "metadata": {},
   "outputs": [
    {
     "data": {
      "text/plain": [
       "Index(['breed', 'country of origin', 'fur color', 'height (in)',\n",
       "       'color of eyes', 'longevity (yrs)', 'character traits',\n",
       "       'common health problems'],\n",
       "      dtype='object')"
      ]
     },
     "execution_count": 217,
     "metadata": {},
     "output_type": "execute_result"
    }
   ],
   "source": [
    "df.columns"
   ]
  },
  {
   "cell_type": "code",
   "execution_count": 218,
   "metadata": {},
   "outputs": [
    {
     "data": {
      "text/plain": [
       "0      21-24\n",
       "1      22-26\n",
       "2      12-16\n",
       "3      10-15\n",
       "4      13-15\n",
       "       ...  \n",
       "112    20-26\n",
       "113    14-15\n",
       "114    13-16\n",
       "115    22-26\n",
       "116    21-25\n",
       "Name: height (in), Length: 117, dtype: object"
      ]
     },
     "execution_count": 218,
     "metadata": {},
     "output_type": "execute_result"
    }
   ],
   "source": [
    "df['height (in)']"
   ]
  },
  {
   "cell_type": "code",
   "execution_count": 219,
   "metadata": {},
   "outputs": [],
   "source": [
    "def height_min(x):\n",
    "  print(len(x))\n",
    "  if len(x) == 5:\n",
    "    return int(x[:2])\n",
    "  elif len(x) == 4:\n",
    "    print(x)\n",
    "    return int(x[:1])\n",
    "  elif len(x) == 3:\n",
    "    return int(x[:1])\n",
    "  \n",
    "\n",
    "def height_max(x):\n",
    "  if len(x) == 5:\n",
    "    return int(x[-2:])\n",
    "  elif len(x) == 4:\n",
    "    print(x)\n",
    "    return int(x[-2:])\n",
    "  elif len(x) == 3:\n",
    "    return int(x[-1])"
   ]
  },
  {
   "cell_type": "code",
   "execution_count": 220,
   "metadata": {},
   "outputs": [
    {
     "name": "stdout",
     "output_type": "stream",
     "text": [
      "5\n",
      "5\n",
      "5\n",
      "5\n",
      "5\n",
      "3\n",
      "5\n",
      "5\n",
      "5\n",
      "5\n",
      "5\n",
      "3\n",
      "4\n",
      "9-10\n",
      "4\n",
      "9-11\n",
      "5\n",
      "5\n",
      "5\n",
      "5\n",
      "3\n",
      "5\n",
      "5\n",
      "5\n",
      "5\n",
      "5\n",
      "5\n",
      "5\n",
      "5\n",
      "5\n",
      "5\n",
      "5\n",
      "5\n",
      "5\n",
      "5\n",
      "5\n",
      "5\n",
      "5\n",
      "5\n",
      "4\n",
      "8-11\n",
      "3\n",
      "5\n",
      "5\n",
      "5\n",
      "4\n",
      "9-11\n",
      "5\n",
      "4\n",
      "7-10\n",
      "5\n",
      "5\n",
      "5\n",
      "5\n",
      "5\n",
      "5\n",
      "5\n",
      "4\n",
      "9-11\n",
      "5\n",
      "5\n",
      "5\n",
      "5\n",
      "5\n",
      "5\n",
      "5\n",
      "5\n",
      "5\n",
      "5\n",
      "5\n",
      "5\n",
      "5\n",
      "5\n",
      "5\n",
      "5\n",
      "5\n",
      "5\n",
      "5\n",
      "5\n",
      "5\n",
      "5\n",
      "5\n",
      "5\n",
      "5\n",
      "5\n",
      "5\n",
      "5\n",
      "5\n",
      "5\n",
      "5\n",
      "5\n",
      "5\n",
      "5\n",
      "5\n",
      "5\n",
      "4\n",
      "7-11\n",
      "5\n",
      "5\n",
      "5\n",
      "5\n",
      "4\n",
      "8-10\n",
      "5\n",
      "5\n",
      "5\n",
      "5\n",
      "5\n",
      "5\n",
      "5\n",
      "5\n",
      "5\n",
      "5\n",
      "5\n",
      "5\n",
      "5\n",
      "3\n",
      "5\n",
      "5\n",
      "5\n",
      "5\n",
      "5\n",
      "5\n",
      "5\n",
      "5\n",
      "9-10\n",
      "9-11\n",
      "8-11\n",
      "9-11\n",
      "7-10\n",
      "9-11\n",
      "7-11\n",
      "8-10\n"
     ]
    }
   ],
   "source": [
    "df['min_height'] = df['height (in)'].apply(height_min)\n",
    "df['max_height'] = df['height (in)'].apply(height_max)"
   ]
  },
  {
   "cell_type": "code",
   "execution_count": 221,
   "metadata": {},
   "outputs": [
    {
     "name": "stdout",
     "output_type": "stream",
     "text": [
      "9-10\n",
      "9-11\n",
      "8-11\n",
      "9-11\n",
      "7-10\n",
      "9-11\n",
      "7-11\n",
      "8-10\n",
      "5\n",
      "5\n",
      "5\n",
      "5\n",
      "5\n",
      "3\n",
      "5\n",
      "5\n",
      "5\n",
      "5\n",
      "5\n",
      "3\n",
      "4\n",
      "9-10\n",
      "4\n",
      "9-11\n",
      "5\n",
      "5\n",
      "5\n",
      "5\n",
      "3\n",
      "5\n",
      "5\n",
      "5\n",
      "5\n",
      "5\n",
      "5\n",
      "5\n",
      "5\n",
      "5\n",
      "5\n",
      "5\n",
      "5\n",
      "5\n",
      "5\n",
      "5\n",
      "5\n",
      "5\n",
      "5\n",
      "4\n",
      "8-11\n",
      "3\n",
      "5\n",
      "5\n",
      "5\n",
      "4\n",
      "9-11\n",
      "5\n",
      "4\n",
      "7-10\n",
      "5\n",
      "5\n",
      "5\n",
      "5\n",
      "5\n",
      "5\n",
      "5\n",
      "4\n",
      "9-11\n",
      "5\n",
      "5\n",
      "5\n",
      "5\n",
      "5\n",
      "5\n",
      "5\n",
      "5\n",
      "5\n",
      "5\n",
      "5\n",
      "5\n",
      "5\n",
      "5\n",
      "5\n",
      "5\n",
      "5\n",
      "5\n",
      "5\n",
      "5\n",
      "5\n",
      "5\n",
      "5\n",
      "5\n",
      "5\n",
      "5\n",
      "5\n",
      "5\n",
      "5\n",
      "5\n",
      "5\n",
      "5\n",
      "5\n",
      "5\n",
      "5\n",
      "5\n",
      "4\n",
      "7-11\n",
      "5\n",
      "5\n",
      "5\n",
      "5\n",
      "4\n",
      "8-10\n",
      "5\n",
      "5\n",
      "5\n",
      "5\n",
      "5\n",
      "5\n",
      "5\n",
      "5\n",
      "5\n",
      "5\n",
      "5\n",
      "5\n",
      "5\n",
      "3\n",
      "5\n",
      "5\n",
      "5\n",
      "5\n",
      "5\n",
      "5\n",
      "5\n",
      "5\n"
     ]
    }
   ],
   "source": [
    "df_all['max_height'] = df_all['height (in)'].apply(height_max)\n",
    "df_all['min_height'] = df_all['height (in)'].apply(height_min)"
   ]
  },
  {
   "cell_type": "code",
   "execution_count": 222,
   "metadata": {},
   "outputs": [
    {
     "data": {
      "text/plain": [
       "<Axes: title={'center': 'Distribution of Minimum Dog Height'}, ylabel='Frequency'>"
      ]
     },
     "execution_count": 222,
     "metadata": {},
     "output_type": "execute_result"
    },
    {
     "data": {
      "image/png": "[encoded data removed]",
      "text/plain": [
       "<Figure size 800x400 with 1 Axes>"
      ]
     },
     "metadata": {},
     "output_type": "display_data"
    }
   ],
   "source": [
    "df['min_height'].plot(kind='hist', title='Distribution of Minimum Dog Height',\n",
    "                      figsize=(8,4), color=pal[2])"
   ]
  },
  {
   "cell_type": "code",
   "execution_count": 223,
   "metadata": {},
   "outputs": [
    {
     "data": {
      "text/plain": [
       "<Axes: title={'center': 'Distribution of Maximum Dog Height'}, ylabel='Frequency'>"
      ]
     },
     "execution_count": 223,
     "metadata": {},
     "output_type": "execute_result"
    },
    {
     "data": {
      "image/png": "[encoded data removed]",
      "text/plain": [
       "<Figure size 800x400 with 1 Axes>"
      ]
     },
     "metadata": {},
     "output_type": "display_data"
    }
   ],
   "source": [
    "df['max_height'].plot(kind='hist', title='Distribution of Maximum Dog Height',\n",
    "                      figsize=(8,4), color=pal[0])"
   ]
  },
  {
   "cell_type": "code",
   "execution_count": 224,
   "metadata": {},
   "outputs": [
    {
     "data": {
      "text/html": [
       "<div>\n",
       "<style scoped>\n",
       "    .dataframe tbody tr th:only-of-type {\n",
       "        vertical-align: middle;\n",
       "    }\n",
       "\n",
       "    .dataframe tbody tr th {\n",
       "        vertical-align: top;\n",
       "    }\n",
       "\n",
       "    .dataframe thead th {\n",
       "        text-align: right;\n",
       "    }\n",
       "</style>\n",
       "<table border=\"1\" class=\"dataframe\">\n",
       "  <thead>\n",
       "    <tr style=\"text-align: right;\">\n",
       "      <th></th>\n",
       "      <th>max_height</th>\n",
       "      <th>min_height</th>\n",
       "    </tr>\n",
       "  </thead>\n",
       "  <tbody>\n",
       "    <tr>\n",
       "      <th>count</th>\n",
       "      <td>117.000000</td>\n",
       "      <td>117.000000</td>\n",
       "    </tr>\n",
       "    <tr>\n",
       "      <th>mean</th>\n",
       "      <td>20.299145</td>\n",
       "      <td>17.051282</td>\n",
       "    </tr>\n",
       "    <tr>\n",
       "      <th>std</th>\n",
       "      <td>7.247193</td>\n",
       "      <td>6.533529</td>\n",
       "    </tr>\n",
       "    <tr>\n",
       "      <th>min</th>\n",
       "      <td>7.000000</td>\n",
       "      <td>5.000000</td>\n",
       "    </tr>\n",
       "    <tr>\n",
       "      <th>25%</th>\n",
       "      <td>14.000000</td>\n",
       "      <td>10.000000</td>\n",
       "    </tr>\n",
       "    <tr>\n",
       "      <th>50%</th>\n",
       "      <td>20.000000</td>\n",
       "      <td>18.000000</td>\n",
       "    </tr>\n",
       "    <tr>\n",
       "      <th>75%</th>\n",
       "      <td>27.000000</td>\n",
       "      <td>22.000000</td>\n",
       "    </tr>\n",
       "    <tr>\n",
       "      <th>max</th>\n",
       "      <td>35.000000</td>\n",
       "      <td>30.000000</td>\n",
       "    </tr>\n",
       "  </tbody>\n",
       "</table>\n",
       "</div>"
      ],
      "text/plain": [
       "       max_height  min_height\n",
       "count  117.000000  117.000000\n",
       "mean    20.299145   17.051282\n",
       "std      7.247193    6.533529\n",
       "min      7.000000    5.000000\n",
       "25%     14.000000   10.000000\n",
       "50%     20.000000   18.000000\n",
       "75%     27.000000   22.000000\n",
       "max     35.000000   30.000000"
      ]
     },
     "execution_count": 224,
     "metadata": {},
     "output_type": "execute_result"
    }
   ],
   "source": [
    "df[['max_height','min_height']].describe()"
   ]
  },
  {
   "cell_type": "markdown",
   "metadata": {},
   "source": [
    "**Observations**\n",
    "\n",
    "+ Both min and max height distributions are a abnormal form of bimodal.\n",
    "+ Modes happen at approximatly 12 and 27 inch"
   ]
  },
  {
   "cell_type": "markdown",
   "metadata": {},
   "source": []
  },
  {
   "cell_type": "markdown",
   "metadata": {},
   "source": [
    "### Longevity (yrs)"
   ]
  },
  {
   "cell_type": "code",
   "execution_count": 225,
   "metadata": {},
   "outputs": [
    {
     "data": {
      "text/plain": [
       "0      10-12\n",
       "1       7-10\n",
       "2       8-10\n",
       "3      12-15\n",
       "4      12-15\n",
       "       ...  \n",
       "112    12-14\n",
       "113    12-15\n",
       "114    12-15\n",
       "115    12-14\n",
       "116    12-14\n",
       "Name: longevity (yrs), Length: 117, dtype: object"
      ]
     },
     "execution_count": 225,
     "metadata": {},
     "output_type": "execute_result"
    }
   ],
   "source": [
    "df['longevity (yrs)']"
   ]
  },
  {
   "cell_type": "code",
   "execution_count": 226,
   "metadata": {},
   "outputs": [],
   "source": [
    "def longevity_min(x):\n",
    "  print(len(x))\n",
    "  if len(x) == 5:\n",
    "    return int(x[:2])\n",
    "  elif len(x) == 4:\n",
    "    print(x)\n",
    "    return int(x[:1])\n",
    "  elif len(x) == 3:\n",
    "    return int(x[:1])\n",
    "  \n",
    "\n",
    "def longevity_max(x):\n",
    "  if len(x) == 5:\n",
    "    return int(x[-2:])\n",
    "  elif len(x) == 4:\n",
    "    print(x)\n",
    "    return int(x[-2:])\n",
    "  elif len(x) == 3:\n",
    "    return int(x[-1])"
   ]
  },
  {
   "cell_type": "code",
   "execution_count": 227,
   "metadata": {},
   "outputs": [
    {
     "name": "stdout",
     "output_type": "stream",
     "text": [
      "5\n",
      "4\n",
      "7-10\n",
      "4\n",
      "8-10\n",
      "5\n",
      "5\n",
      "5\n",
      "5\n",
      "5\n",
      "5\n",
      "4\n",
      "8-10\n",
      "5\n",
      "5\n",
      "5\n",
      "5\n",
      "5\n",
      "5\n",
      "5\n",
      "5\n",
      "5\n",
      "4\n",
      "8-10\n",
      "4\n",
      "8-10\n",
      "4\n",
      "9-11\n",
      "4\n",
      "8-10\n",
      "5\n",
      "3\n",
      "5\n",
      "4\n",
      "8-10\n",
      "5\n",
      "4\n",
      "8-12\n",
      "5\n",
      "5\n",
      "5\n",
      "5\n",
      "5\n",
      "5\n",
      "5\n",
      "5\n",
      "5\n",
      "5\n",
      "5\n",
      "5\n",
      "5\n",
      "5\n",
      "5\n",
      "5\n",
      "5\n",
      "5\n",
      "5\n",
      "5\n",
      "5\n",
      "5\n",
      "5\n",
      "5\n",
      "5\n",
      "5\n",
      "5\n",
      "5\n",
      "5\n",
      "5\n",
      "5\n",
      "5\n",
      "5\n",
      "5\n",
      "5\n",
      "5\n",
      "5\n",
      "5\n",
      "5\n",
      "5\n",
      "5\n",
      "5\n",
      "5\n",
      "5\n",
      "5\n",
      "5\n",
      "5\n",
      "5\n",
      "5\n",
      "5\n",
      "5\n",
      "5\n",
      "5\n",
      "5\n",
      "5\n",
      "5\n",
      "5\n",
      "4\n",
      "6-10\n",
      "5\n",
      "5\n",
      "5\n",
      "5\n",
      "5\n",
      "5\n",
      "5\n",
      "5\n",
      "5\n",
      "5\n",
      "5\n",
      "5\n",
      "5\n",
      "5\n",
      "5\n",
      "5\n",
      "5\n",
      "5\n",
      "5\n",
      "5\n",
      "5\n",
      "5\n",
      "5\n",
      "5\n",
      "5\n",
      "5\n",
      "5\n",
      "5\n",
      "5\n",
      "5\n",
      "7-10\n",
      "8-10\n",
      "8-10\n",
      "8-10\n",
      "8-10\n",
      "9-11\n",
      "8-10\n",
      "8-10\n",
      "8-12\n",
      "6-10\n",
      "5\n",
      "4\n",
      "7-10\n",
      "4\n",
      "8-10\n",
      "5\n",
      "5\n",
      "5\n",
      "5\n",
      "5\n",
      "5\n",
      "4\n",
      "8-10\n",
      "5\n",
      "5\n",
      "5\n",
      "5\n",
      "5\n",
      "5\n",
      "5\n",
      "5\n",
      "5\n",
      "4\n",
      "8-10\n",
      "4\n",
      "8-10\n",
      "4\n",
      "9-11\n",
      "4\n",
      "8-10\n",
      "5\n",
      "3\n",
      "5\n",
      "4\n",
      "8-10\n",
      "5\n",
      "4\n",
      "8-12\n",
      "5\n",
      "5\n",
      "5\n",
      "5\n",
      "5\n",
      "5\n",
      "5\n",
      "5\n",
      "5\n",
      "5\n",
      "5\n",
      "5\n",
      "5\n",
      "5\n",
      "5\n",
      "5\n",
      "5\n",
      "5\n",
      "5\n",
      "5\n",
      "5\n",
      "5\n",
      "5\n",
      "5\n",
      "5\n",
      "5\n",
      "5\n",
      "5\n",
      "5\n",
      "5\n",
      "5\n",
      "5\n",
      "5\n",
      "5\n",
      "5\n",
      "5\n",
      "5\n",
      "5\n",
      "5\n",
      "5\n",
      "5\n",
      "5\n",
      "5\n",
      "5\n",
      "5\n",
      "5\n",
      "5\n",
      "5\n",
      "5\n",
      "5\n",
      "5\n",
      "5\n",
      "5\n",
      "5\n",
      "5\n",
      "5\n",
      "5\n",
      "4\n",
      "6-10\n",
      "5\n",
      "5\n",
      "5\n",
      "5\n",
      "5\n",
      "5\n",
      "5\n",
      "5\n",
      "5\n",
      "5\n",
      "5\n",
      "5\n",
      "5\n",
      "5\n",
      "5\n",
      "5\n",
      "5\n",
      "5\n",
      "5\n",
      "5\n",
      "5\n",
      "5\n",
      "5\n",
      "5\n",
      "5\n",
      "5\n",
      "5\n",
      "5\n",
      "5\n",
      "5\n",
      "7-10\n",
      "8-10\n",
      "8-10\n",
      "8-10\n",
      "8-10\n",
      "9-11\n",
      "8-10\n",
      "8-10\n",
      "8-12\n",
      "6-10\n"
     ]
    }
   ],
   "source": [
    "df['min_longevity'] = df['longevity (yrs)'].apply(height_min)\n",
    "df['max_longevity'] = df['longevity (yrs)'].apply(height_max)\n",
    "df_all['min_longevity'] = df_all['longevity (yrs)'].apply(height_min)\n",
    "df_all['max_longevity'] = df_all['longevity (yrs)'].apply(height_max)"
   ]
  },
  {
   "cell_type": "code",
   "execution_count": 228,
   "metadata": {},
   "outputs": [
    {
     "data": {
      "image/png": "[encoded data removed]",
      "text/plain": [
       "<Figure size 800x400 with 1 Axes>"
      ]
     },
     "metadata": {},
     "output_type": "display_data"
    },
    {
     "data": {
      "text/plain": [
       "min_longevity\n",
       "12    0.692308\n",
       "10    0.188034\n",
       "8     0.059829\n",
       "6     0.017094\n",
       "7     0.008547\n",
       "9     0.008547\n",
       "14    0.008547\n",
       "11    0.008547\n",
       "13    0.008547\n",
       "Name: proportion, dtype: float64"
      ]
     },
     "execution_count": 228,
     "metadata": {},
     "output_type": "execute_result"
    }
   ],
   "source": [
    "df['min_longevity'].plot(kind='hist', title='Distribution of Minimum Dog Longevity',\n",
    "                      figsize=(8,4), color=pal[2])\n",
    "plt.show()\n",
    "df['min_longevity'].value_counts(normalize=True)"
   ]
  },
  {
   "cell_type": "code",
   "execution_count": 229,
   "metadata": {},
   "outputs": [
    {
     "data": {
      "image/png": "[encoded data removed]",
      "text/plain": [
       "<Figure size 800x400 with 1 Axes>"
      ]
     },
     "metadata": {},
     "output_type": "display_data"
    },
    {
     "data": {
      "text/plain": [
       "max_longevity\n",
       "15    0.376068\n",
       "14    0.273504\n",
       "12    0.188034\n",
       "10    0.068376\n",
       "16    0.051282\n",
       "20    0.008547\n",
       "11    0.008547\n",
       "8     0.008547\n",
       "13    0.008547\n",
       "18    0.008547\n",
       "Name: proportion, dtype: float64"
      ]
     },
     "execution_count": 229,
     "metadata": {},
     "output_type": "execute_result"
    }
   ],
   "source": [
    "df['max_longevity'].plot(kind='hist', title='Distribution of Maximum Dog Longevity',\n",
    "                      figsize=(8,4), color=pal[0])\n",
    "plt.show()\n",
    "df['max_longevity'].value_counts(normalize=True)"
   ]
  },
  {
   "cell_type": "markdown",
   "metadata": {},
   "source": [
    "**Observations**\n",
    "\n",
    "+ The minimum age dogs are expect to live is:\n",
    "    + for 70% of dogs is 12 years\n",
    "    + 19% at 10 years\n",
    "    + 6% at 8 years\n",
    "\n",
    "+ The maximum age dogs are expected to live.\n",
    "    + 5% live to 16 years\n",
    "    + 38% live to 15 years\n",
    "    + 27% to 14 years\n",
    "    + 18% to 12 years\n",
    "    + 7% to 10 years"
   ]
  },
  {
   "cell_type": "markdown",
   "metadata": {},
   "source": []
  },
  {
   "cell_type": "markdown",
   "metadata": {},
   "source": [
    "### Bi-variate Analysis"
   ]
  },
  {
   "cell_type": "markdown",
   "metadata": {},
   "source": [
    "#### Size, Longevity by Color"
   ]
  },
  {
   "cell_type": "code",
   "execution_count": 230,
   "metadata": {},
   "outputs": [
    {
     "data": {
      "text/plain": [
       "breed                     object\n",
       "country of origin         object\n",
       "fur color                 object\n",
       "height (in)               object\n",
       "color of eyes             object\n",
       "longevity (yrs)           object\n",
       "character traits          object\n",
       "common health problems    object\n",
       "max_height                 int64\n",
       "min_height                 int64\n",
       "min_longevity              int64\n",
       "max_longevity              int64\n",
       "dtype: object"
      ]
     },
     "execution_count": 230,
     "metadata": {},
     "output_type": "execute_result"
    }
   ],
   "source": [
    "df_all.dtypes"
   ]
  },
  {
   "cell_type": "code",
   "execution_count": 231,
   "metadata": {},
   "outputs": [
    {
     "data": {
      "text/plain": [
       "<Axes: xlabel='max_height', ylabel='Count'>"
      ]
     },
     "execution_count": 231,
     "metadata": {},
     "output_type": "execute_result"
    },
    {
     "data": {
      "image/png": "[encoded data removed]",
      "text/plain": [
       "<Figure size 640x480 with 1 Axes>"
      ]
     },
     "metadata": {},
     "output_type": "display_data"
    }
   ],
   "source": [
    "# ... existing code ...\n",
    "df_all = df_all.explode('fur color')  # Ensure df_all is exploded before plotting\n",
    "# ... existing code ...\n",
    "sns.histplot(data=df_all, x='max_height', hue='fur color')\n",
    "# ... existing code ..."
   ]
  },
  {
   "cell_type": "code",
   "execution_count": 232,
   "metadata": {},
   "outputs": [],
   "source": [
    "fur_colors = df_all['fur color'].value_counts()[:4].index"
   ]
  },
  {
   "cell_type": "code",
   "execution_count": 233,
   "metadata": {},
   "outputs": [
    {
     "data": {
      "text/plain": [
       "Text(0.5, 1.0, '\\n Height by Fur color \\n')"
      ]
     },
     "execution_count": 233,
     "metadata": {},
     "output_type": "execute_result"
    },
    {
     "data": {
      "image/png": "[encoded data removed]",
      "text/plain": [
       "<Figure size 640x480 with 1 Axes>"
      ]
     },
     "metadata": {},
     "output_type": "display_data"
    }
   ],
   "source": [
    "sns.histplot(data=df_all[df_all['fur color'].isin(fur_colors)].reset_index(), x='max_height',\n",
    "             hue='fur color', kde=True)\n",
    "plt.title('\\n Height by Fur color \\n')"
   ]
  },
  {
   "cell_type": "code",
   "execution_count": 234,
   "metadata": {},
   "outputs": [
    {
     "data": {
      "text/plain": [
       "Text(0.5, 1.0, '\\n Longevity by Fur color\\n')"
      ]
     },
     "execution_count": 234,
     "metadata": {},
     "output_type": "execute_result"
    },
    {
     "data": {
      "image/png": "[encoded data removed]",
      "text/plain": [
       "<Figure size 640x480 with 1 Axes>"
      ]
     },
     "metadata": {},
     "output_type": "display_data"
    }
   ],
   "source": [
    "sns.histplot(data=df_all[df_all['fur color'].isin(fur_colors)].reset_index(), x='max_longevity', \n",
    "             hue='fur color', kde=True, bins=15)\n",
    "plt.title('\\n Longevity by Fur color\\n')"
   ]
  },
  {
   "cell_type": "markdown",
   "metadata": {},
   "source": [
    "**Observations**\n",
    "\n",
    "+ There isn't a notice pattern between fur color and height"
   ]
  },
  {
   "cell_type": "markdown",
   "metadata": {},
   "source": [
    "### Size and Longevity by Character Trait"
   ]
  },
  {
   "cell_type": "code",
   "execution_count": 235,
   "metadata": {},
   "outputs": [],
   "source": [
    "character_traits = df_all['character traits'].value_counts()[:4].index"
   ]
  },
  {
   "cell_type": "code",
   "execution_count": 236,
   "metadata": {},
   "outputs": [
    {
     "data": {
      "text/html": [
       "<div>\n",
       "<style scoped>\n",
       "    .dataframe tbody tr th:only-of-type {\n",
       "        vertical-align: middle;\n",
       "    }\n",
       "\n",
       "    .dataframe tbody tr th {\n",
       "        vertical-align: top;\n",
       "    }\n",
       "\n",
       "    .dataframe thead th {\n",
       "        text-align: right;\n",
       "    }\n",
       "</style>\n",
       "<table border=\"1\" class=\"dataframe\">\n",
       "  <thead>\n",
       "    <tr style=\"text-align: right;\">\n",
       "      <th></th>\n",
       "      <th>breed</th>\n",
       "      <th>country of origin</th>\n",
       "      <th>fur color</th>\n",
       "      <th>height (in)</th>\n",
       "      <th>color of eyes</th>\n",
       "      <th>longevity (yrs)</th>\n",
       "      <th>character traits</th>\n",
       "      <th>common health problems</th>\n",
       "      <th>max_height</th>\n",
       "      <th>min_height</th>\n",
       "      <th>min_longevity</th>\n",
       "      <th>max_longevity</th>\n",
       "    </tr>\n",
       "  </thead>\n",
       "  <tbody>\n",
       "    <tr>\n",
       "      <th>0</th>\n",
       "      <td>Labrador Retriever</td>\n",
       "      <td>Canada</td>\n",
       "      <td>Yellow</td>\n",
       "      <td>21-24</td>\n",
       "      <td>[Brown]</td>\n",
       "      <td>10-12</td>\n",
       "      <td>[Loyal, friendly, intelligent, energetic, good...</td>\n",
       "      <td>[Hip dysplasia, obesity, ear infections]</td>\n",
       "      <td>24</td>\n",
       "      <td>21</td>\n",
       "      <td>10</td>\n",
       "      <td>12</td>\n",
       "    </tr>\n",
       "    <tr>\n",
       "      <th>0</th>\n",
       "      <td>Labrador Retriever</td>\n",
       "      <td>Canada</td>\n",
       "      <td>Black</td>\n",
       "      <td>21-24</td>\n",
       "      <td>[Brown]</td>\n",
       "      <td>10-12</td>\n",
       "      <td>[Loyal, friendly, intelligent, energetic, good...</td>\n",
       "      <td>[Hip dysplasia, obesity, ear infections]</td>\n",
       "      <td>24</td>\n",
       "      <td>21</td>\n",
       "      <td>10</td>\n",
       "      <td>12</td>\n",
       "    </tr>\n",
       "    <tr>\n",
       "      <th>0</th>\n",
       "      <td>Labrador Retriever</td>\n",
       "      <td>Canada</td>\n",
       "      <td>Chocolate</td>\n",
       "      <td>21-24</td>\n",
       "      <td>[Brown]</td>\n",
       "      <td>10-12</td>\n",
       "      <td>[Loyal, friendly, intelligent, energetic, good...</td>\n",
       "      <td>[Hip dysplasia, obesity, ear infections]</td>\n",
       "      <td>24</td>\n",
       "      <td>21</td>\n",
       "      <td>10</td>\n",
       "      <td>12</td>\n",
       "    </tr>\n",
       "    <tr>\n",
       "      <th>1</th>\n",
       "      <td>German Shepherd</td>\n",
       "      <td>Germany</td>\n",
       "      <td>Black</td>\n",
       "      <td>22-26</td>\n",
       "      <td>[Brown]</td>\n",
       "      <td>7-10</td>\n",
       "      <td>[Loyal, intelligent, protective, confident, tr...</td>\n",
       "      <td>[Hip dysplasia, elbow dysplasia, pancreatitis]</td>\n",
       "      <td>26</td>\n",
       "      <td>22</td>\n",
       "      <td>7</td>\n",
       "      <td>10</td>\n",
       "    </tr>\n",
       "    <tr>\n",
       "      <th>1</th>\n",
       "      <td>German Shepherd</td>\n",
       "      <td>Germany</td>\n",
       "      <td>Tan</td>\n",
       "      <td>22-26</td>\n",
       "      <td>[Brown]</td>\n",
       "      <td>7-10</td>\n",
       "      <td>[Loyal, intelligent, protective, confident, tr...</td>\n",
       "      <td>[Hip dysplasia, elbow dysplasia, pancreatitis]</td>\n",
       "      <td>26</td>\n",
       "      <td>22</td>\n",
       "      <td>7</td>\n",
       "      <td>10</td>\n",
       "    </tr>\n",
       "    <tr>\n",
       "      <th>...</th>\n",
       "      <td>...</td>\n",
       "      <td>...</td>\n",
       "      <td>...</td>\n",
       "      <td>...</td>\n",
       "      <td>...</td>\n",
       "      <td>...</td>\n",
       "      <td>...</td>\n",
       "      <td>...</td>\n",
       "      <td>...</td>\n",
       "      <td>...</td>\n",
       "      <td>...</td>\n",
       "      <td>...</td>\n",
       "    </tr>\n",
       "    <tr>\n",
       "      <th>113</th>\n",
       "      <td>Cocker Spaniel</td>\n",
       "      <td>England</td>\n",
       "      <td>Brown</td>\n",
       "      <td>14-15</td>\n",
       "      <td>[Brown]</td>\n",
       "      <td>12-15</td>\n",
       "      <td>[Intelligent, energetic, playful, good-natured]</td>\n",
       "      <td>[Dental problems, eye issues, skin allergies]</td>\n",
       "      <td>15</td>\n",
       "      <td>14</td>\n",
       "      <td>12</td>\n",
       "      <td>15</td>\n",
       "    </tr>\n",
       "    <tr>\n",
       "      <th>114</th>\n",
       "      <td>Miniature Shiba Inu</td>\n",
       "      <td>Japan</td>\n",
       "      <td>Red</td>\n",
       "      <td>13-16</td>\n",
       "      <td>[Brown]</td>\n",
       "      <td>12-15</td>\n",
       "      <td>[Intelligent, energetic, playful, good-natured]</td>\n",
       "      <td>[Dental problems, eye issues, skin allergies]</td>\n",
       "      <td>16</td>\n",
       "      <td>13</td>\n",
       "      <td>12</td>\n",
       "      <td>15</td>\n",
       "    </tr>\n",
       "    <tr>\n",
       "      <th>114</th>\n",
       "      <td>Miniature Shiba Inu</td>\n",
       "      <td>Japan</td>\n",
       "      <td>Sesame</td>\n",
       "      <td>13-16</td>\n",
       "      <td>[Brown]</td>\n",
       "      <td>12-15</td>\n",
       "      <td>[Intelligent, energetic, playful, good-natured]</td>\n",
       "      <td>[Dental problems, eye issues, skin allergies]</td>\n",
       "      <td>16</td>\n",
       "      <td>13</td>\n",
       "      <td>12</td>\n",
       "      <td>15</td>\n",
       "    </tr>\n",
       "    <tr>\n",
       "      <th>115</th>\n",
       "      <td>Belgian Tervuren</td>\n",
       "      <td>Belgium</td>\n",
       "      <td>Fawn</td>\n",
       "      <td>22-26</td>\n",
       "      <td>[Brown]</td>\n",
       "      <td>12-14</td>\n",
       "      <td>[Intelligent, energetic, good-natured, loyal]</td>\n",
       "      <td>[Dental problems, eye issues, skin allergies]</td>\n",
       "      <td>26</td>\n",
       "      <td>22</td>\n",
       "      <td>12</td>\n",
       "      <td>14</td>\n",
       "    </tr>\n",
       "    <tr>\n",
       "      <th>116</th>\n",
       "      <td>Pharaoh Hound</td>\n",
       "      <td>Malta</td>\n",
       "      <td>Red</td>\n",
       "      <td>21-25</td>\n",
       "      <td>[Brown]</td>\n",
       "      <td>12-14</td>\n",
       "      <td>[Intelligent, energetic, good-natured, loyal]</td>\n",
       "      <td>[Dental problems, eye issues, skin allergies]</td>\n",
       "      <td>25</td>\n",
       "      <td>21</td>\n",
       "      <td>12</td>\n",
       "      <td>14</td>\n",
       "    </tr>\n",
       "  </tbody>\n",
       "</table>\n",
       "<p>250 rows × 12 columns</p>\n",
       "</div>"
      ],
      "text/plain": [
       "                   breed country of origin  fur color height (in)  \\\n",
       "0     Labrador Retriever            Canada     Yellow       21-24   \n",
       "0     Labrador Retriever            Canada      Black       21-24   \n",
       "0     Labrador Retriever            Canada  Chocolate       21-24   \n",
       "1        German Shepherd           Germany      Black       22-26   \n",
       "1        German Shepherd           Germany        Tan       22-26   \n",
       "..                   ...               ...        ...         ...   \n",
       "113       Cocker Spaniel           England      Brown       14-15   \n",
       "114  Miniature Shiba Inu             Japan        Red       13-16   \n",
       "114  Miniature Shiba Inu             Japan     Sesame       13-16   \n",
       "115     Belgian Tervuren           Belgium       Fawn       22-26   \n",
       "116        Pharaoh Hound             Malta        Red       21-25   \n",
       "\n",
       "    color of eyes longevity (yrs)  \\\n",
       "0         [Brown]           10-12   \n",
       "0         [Brown]           10-12   \n",
       "0         [Brown]           10-12   \n",
       "1         [Brown]            7-10   \n",
       "1         [Brown]            7-10   \n",
       "..            ...             ...   \n",
       "113       [Brown]           12-15   \n",
       "114       [Brown]           12-15   \n",
       "114       [Brown]           12-15   \n",
       "115       [Brown]           12-14   \n",
       "116       [Brown]           12-14   \n",
       "\n",
       "                                      character traits  \\\n",
       "0    [Loyal, friendly, intelligent, energetic, good...   \n",
       "0    [Loyal, friendly, intelligent, energetic, good...   \n",
       "0    [Loyal, friendly, intelligent, energetic, good...   \n",
       "1    [Loyal, intelligent, protective, confident, tr...   \n",
       "1    [Loyal, intelligent, protective, confident, tr...   \n",
       "..                                                 ...   \n",
       "113    [Intelligent, energetic, playful, good-natured]   \n",
       "114    [Intelligent, energetic, playful, good-natured]   \n",
       "114    [Intelligent, energetic, playful, good-natured]   \n",
       "115      [Intelligent, energetic, good-natured, loyal]   \n",
       "116      [Intelligent, energetic, good-natured, loyal]   \n",
       "\n",
       "                             common health problems  max_height  min_height  \\\n",
       "0          [Hip dysplasia, obesity, ear infections]          24          21   \n",
       "0          [Hip dysplasia, obesity, ear infections]          24          21   \n",
       "0          [Hip dysplasia, obesity, ear infections]          24          21   \n",
       "1    [Hip dysplasia, elbow dysplasia, pancreatitis]          26          22   \n",
       "1    [Hip dysplasia, elbow dysplasia, pancreatitis]          26          22   \n",
       "..                                              ...         ...         ...   \n",
       "113   [Dental problems, eye issues, skin allergies]          15          14   \n",
       "114   [Dental problems, eye issues, skin allergies]          16          13   \n",
       "114   [Dental problems, eye issues, skin allergies]          16          13   \n",
       "115   [Dental problems, eye issues, skin allergies]          26          22   \n",
       "116   [Dental problems, eye issues, skin allergies]          25          21   \n",
       "\n",
       "     min_longevity  max_longevity  \n",
       "0               10             12  \n",
       "0               10             12  \n",
       "0               10             12  \n",
       "1                7             10  \n",
       "1                7             10  \n",
       "..             ...            ...  \n",
       "113             12             15  \n",
       "114             12             15  \n",
       "114             12             15  \n",
       "115             12             14  \n",
       "116             12             14  \n",
       "\n",
       "[250 rows x 12 columns]"
      ]
     },
     "execution_count": 236,
     "metadata": {},
     "output_type": "execute_result"
    }
   ],
   "source": [
    "df_all"
   ]
  },
  {
   "cell_type": "code",
   "execution_count": 239,
   "metadata": {},
   "outputs": [
    {
     "ename": "AttributeError",
     "evalue": "'list' object has no attribute 'split'",
     "output_type": "error",
     "traceback": [
      "\u001b[1;31m---------------------------------------------------------------------------\u001b[0m",
      "\u001b[1;31mAttributeError\u001b[0m                            Traceback (most recent call last)",
      "Cell \u001b[1;32mIn[239], line 1\u001b[0m\n\u001b[1;32m----> 1\u001b[0m df_all[\u001b[38;5;124m'\u001b[39m\u001b[38;5;124mcharacter traits\u001b[39m\u001b[38;5;124m'\u001b[39m] \u001b[38;5;241m=\u001b[39m \u001b[43mdf_all\u001b[49m\u001b[43m[\u001b[49m\u001b[38;5;124;43m'\u001b[39;49m\u001b[38;5;124;43mcharacter traits\u001b[39;49m\u001b[38;5;124;43m'\u001b[39;49m\u001b[43m]\u001b[49m\u001b[38;5;241;43m.\u001b[39;49m\u001b[43mapply\u001b[49m\u001b[43m(\u001b[49m\u001b[38;5;28;43;01mlambda\u001b[39;49;00m\u001b[43m \u001b[49m\u001b[43mx\u001b[49m\u001b[43m:\u001b[49m\u001b[43m \u001b[49m\u001b[43mx\u001b[49m\u001b[38;5;241;43m.\u001b[39;49m\u001b[43msplit\u001b[49m\u001b[43m(\u001b[49m\u001b[38;5;124;43m'\u001b[39;49m\u001b[38;5;124;43m,\u001b[39;49m\u001b[38;5;124;43m'\u001b[39;49m\u001b[43m)\u001b[49m\u001b[43m)\u001b[49m\n",
      "File \u001b[1;32mc:\\Users\\shiva\\AppData\\Local\\Programs\\Python\\Python312\\Lib\\site-packages\\pandas\\core\\series.py:4924\u001b[0m, in \u001b[0;36mSeries.apply\u001b[1;34m(self, func, convert_dtype, args, by_row, **kwargs)\u001b[0m\n\u001b[0;32m   4789\u001b[0m \u001b[38;5;28;01mdef\u001b[39;00m \u001b[38;5;21mapply\u001b[39m(\n\u001b[0;32m   4790\u001b[0m     \u001b[38;5;28mself\u001b[39m,\n\u001b[0;32m   4791\u001b[0m     func: AggFuncType,\n\u001b[1;32m   (...)\u001b[0m\n\u001b[0;32m   4796\u001b[0m     \u001b[38;5;241m*\u001b[39m\u001b[38;5;241m*\u001b[39mkwargs,\n\u001b[0;32m   4797\u001b[0m ) \u001b[38;5;241m-\u001b[39m\u001b[38;5;241m>\u001b[39m DataFrame \u001b[38;5;241m|\u001b[39m Series:\n\u001b[0;32m   4798\u001b[0m \u001b[38;5;250m    \u001b[39m\u001b[38;5;124;03m\"\"\"\u001b[39;00m\n\u001b[0;32m   4799\u001b[0m \u001b[38;5;124;03m    Invoke function on values of Series.\u001b[39;00m\n\u001b[0;32m   4800\u001b[0m \n\u001b[1;32m   (...)\u001b[0m\n\u001b[0;32m   4915\u001b[0m \u001b[38;5;124;03m    dtype: float64\u001b[39;00m\n\u001b[0;32m   4916\u001b[0m \u001b[38;5;124;03m    \"\"\"\u001b[39;00m\n\u001b[0;32m   4917\u001b[0m     \u001b[38;5;28;01mreturn\u001b[39;00m \u001b[43mSeriesApply\u001b[49m\u001b[43m(\u001b[49m\n\u001b[0;32m   4918\u001b[0m \u001b[43m        \u001b[49m\u001b[38;5;28;43mself\u001b[39;49m\u001b[43m,\u001b[49m\n\u001b[0;32m   4919\u001b[0m \u001b[43m        \u001b[49m\u001b[43mfunc\u001b[49m\u001b[43m,\u001b[49m\n\u001b[0;32m   4920\u001b[0m \u001b[43m        \u001b[49m\u001b[43mconvert_dtype\u001b[49m\u001b[38;5;241;43m=\u001b[39;49m\u001b[43mconvert_dtype\u001b[49m\u001b[43m,\u001b[49m\n\u001b[0;32m   4921\u001b[0m \u001b[43m        \u001b[49m\u001b[43mby_row\u001b[49m\u001b[38;5;241;43m=\u001b[39;49m\u001b[43mby_row\u001b[49m\u001b[43m,\u001b[49m\n\u001b[0;32m   4922\u001b[0m \u001b[43m        \u001b[49m\u001b[43margs\u001b[49m\u001b[38;5;241;43m=\u001b[39;49m\u001b[43margs\u001b[49m\u001b[43m,\u001b[49m\n\u001b[0;32m   4923\u001b[0m \u001b[43m        \u001b[49m\u001b[43mkwargs\u001b[49m\u001b[38;5;241;43m=\u001b[39;49m\u001b[43mkwargs\u001b[49m\u001b[43m,\u001b[49m\n\u001b[1;32m-> 4924\u001b[0m \u001b[43m    \u001b[49m\u001b[43m)\u001b[49m\u001b[38;5;241;43m.\u001b[39;49m\u001b[43mapply\u001b[49m\u001b[43m(\u001b[49m\u001b[43m)\u001b[49m\n",
      "File \u001b[1;32mc:\\Users\\shiva\\AppData\\Local\\Programs\\Python\\Python312\\Lib\\site-packages\\pandas\\core\\apply.py:1427\u001b[0m, in \u001b[0;36mSeriesApply.apply\u001b[1;34m(self)\u001b[0m\n\u001b[0;32m   1424\u001b[0m     \u001b[38;5;28;01mreturn\u001b[39;00m \u001b[38;5;28mself\u001b[39m\u001b[38;5;241m.\u001b[39mapply_compat()\n\u001b[0;32m   1426\u001b[0m \u001b[38;5;66;03m# self.func is Callable\u001b[39;00m\n\u001b[1;32m-> 1427\u001b[0m \u001b[38;5;28;01mreturn\u001b[39;00m \u001b[38;5;28;43mself\u001b[39;49m\u001b[38;5;241;43m.\u001b[39;49m\u001b[43mapply_standard\u001b[49m\u001b[43m(\u001b[49m\u001b[43m)\u001b[49m\n",
      "File \u001b[1;32mc:\\Users\\shiva\\AppData\\Local\\Programs\\Python\\Python312\\Lib\\site-packages\\pandas\\core\\apply.py:1507\u001b[0m, in \u001b[0;36mSeriesApply.apply_standard\u001b[1;34m(self)\u001b[0m\n\u001b[0;32m   1501\u001b[0m \u001b[38;5;66;03m# row-wise access\u001b[39;00m\n\u001b[0;32m   1502\u001b[0m \u001b[38;5;66;03m# apply doesn't have a `na_action` keyword and for backward compat reasons\u001b[39;00m\n\u001b[0;32m   1503\u001b[0m \u001b[38;5;66;03m# we need to give `na_action=\"ignore\"` for categorical data.\u001b[39;00m\n\u001b[0;32m   1504\u001b[0m \u001b[38;5;66;03m# TODO: remove the `na_action=\"ignore\"` when that default has been changed in\u001b[39;00m\n\u001b[0;32m   1505\u001b[0m \u001b[38;5;66;03m#  Categorical (GH51645).\u001b[39;00m\n\u001b[0;32m   1506\u001b[0m action \u001b[38;5;241m=\u001b[39m \u001b[38;5;124m\"\u001b[39m\u001b[38;5;124mignore\u001b[39m\u001b[38;5;124m\"\u001b[39m \u001b[38;5;28;01mif\u001b[39;00m \u001b[38;5;28misinstance\u001b[39m(obj\u001b[38;5;241m.\u001b[39mdtype, CategoricalDtype) \u001b[38;5;28;01melse\u001b[39;00m \u001b[38;5;28;01mNone\u001b[39;00m\n\u001b[1;32m-> 1507\u001b[0m mapped \u001b[38;5;241m=\u001b[39m \u001b[43mobj\u001b[49m\u001b[38;5;241;43m.\u001b[39;49m\u001b[43m_map_values\u001b[49m\u001b[43m(\u001b[49m\n\u001b[0;32m   1508\u001b[0m \u001b[43m    \u001b[49m\u001b[43mmapper\u001b[49m\u001b[38;5;241;43m=\u001b[39;49m\u001b[43mcurried\u001b[49m\u001b[43m,\u001b[49m\u001b[43m \u001b[49m\u001b[43mna_action\u001b[49m\u001b[38;5;241;43m=\u001b[39;49m\u001b[43maction\u001b[49m\u001b[43m,\u001b[49m\u001b[43m \u001b[49m\u001b[43mconvert\u001b[49m\u001b[38;5;241;43m=\u001b[39;49m\u001b[38;5;28;43mself\u001b[39;49m\u001b[38;5;241;43m.\u001b[39;49m\u001b[43mconvert_dtype\u001b[49m\n\u001b[0;32m   1509\u001b[0m \u001b[43m\u001b[49m\u001b[43m)\u001b[49m\n\u001b[0;32m   1511\u001b[0m \u001b[38;5;28;01mif\u001b[39;00m \u001b[38;5;28mlen\u001b[39m(mapped) \u001b[38;5;129;01mand\u001b[39;00m \u001b[38;5;28misinstance\u001b[39m(mapped[\u001b[38;5;241m0\u001b[39m], ABCSeries):\n\u001b[0;32m   1512\u001b[0m     \u001b[38;5;66;03m# GH#43986 Need to do list(mapped) in order to get treated as nested\u001b[39;00m\n\u001b[0;32m   1513\u001b[0m     \u001b[38;5;66;03m#  See also GH#25959 regarding EA support\u001b[39;00m\n\u001b[0;32m   1514\u001b[0m     \u001b[38;5;28;01mreturn\u001b[39;00m obj\u001b[38;5;241m.\u001b[39m_constructor_expanddim(\u001b[38;5;28mlist\u001b[39m(mapped), index\u001b[38;5;241m=\u001b[39mobj\u001b[38;5;241m.\u001b[39mindex)\n",
      "File \u001b[1;32mc:\\Users\\shiva\\AppData\\Local\\Programs\\Python\\Python312\\Lib\\site-packages\\pandas\\core\\base.py:921\u001b[0m, in \u001b[0;36mIndexOpsMixin._map_values\u001b[1;34m(self, mapper, na_action, convert)\u001b[0m\n\u001b[0;32m    918\u001b[0m \u001b[38;5;28;01mif\u001b[39;00m \u001b[38;5;28misinstance\u001b[39m(arr, ExtensionArray):\n\u001b[0;32m    919\u001b[0m     \u001b[38;5;28;01mreturn\u001b[39;00m arr\u001b[38;5;241m.\u001b[39mmap(mapper, na_action\u001b[38;5;241m=\u001b[39mna_action)\n\u001b[1;32m--> 921\u001b[0m \u001b[38;5;28;01mreturn\u001b[39;00m \u001b[43malgorithms\u001b[49m\u001b[38;5;241;43m.\u001b[39;49m\u001b[43mmap_array\u001b[49m\u001b[43m(\u001b[49m\u001b[43marr\u001b[49m\u001b[43m,\u001b[49m\u001b[43m \u001b[49m\u001b[43mmapper\u001b[49m\u001b[43m,\u001b[49m\u001b[43m \u001b[49m\u001b[43mna_action\u001b[49m\u001b[38;5;241;43m=\u001b[39;49m\u001b[43mna_action\u001b[49m\u001b[43m,\u001b[49m\u001b[43m \u001b[49m\u001b[43mconvert\u001b[49m\u001b[38;5;241;43m=\u001b[39;49m\u001b[43mconvert\u001b[49m\u001b[43m)\u001b[49m\n",
      "File \u001b[1;32mc:\\Users\\shiva\\AppData\\Local\\Programs\\Python\\Python312\\Lib\\site-packages\\pandas\\core\\algorithms.py:1743\u001b[0m, in \u001b[0;36mmap_array\u001b[1;34m(arr, mapper, na_action, convert)\u001b[0m\n\u001b[0;32m   1741\u001b[0m values \u001b[38;5;241m=\u001b[39m arr\u001b[38;5;241m.\u001b[39mastype(\u001b[38;5;28mobject\u001b[39m, copy\u001b[38;5;241m=\u001b[39m\u001b[38;5;28;01mFalse\u001b[39;00m)\n\u001b[0;32m   1742\u001b[0m \u001b[38;5;28;01mif\u001b[39;00m na_action \u001b[38;5;129;01mis\u001b[39;00m \u001b[38;5;28;01mNone\u001b[39;00m:\n\u001b[1;32m-> 1743\u001b[0m     \u001b[38;5;28;01mreturn\u001b[39;00m \u001b[43mlib\u001b[49m\u001b[38;5;241;43m.\u001b[39;49m\u001b[43mmap_infer\u001b[49m\u001b[43m(\u001b[49m\u001b[43mvalues\u001b[49m\u001b[43m,\u001b[49m\u001b[43m \u001b[49m\u001b[43mmapper\u001b[49m\u001b[43m,\u001b[49m\u001b[43m \u001b[49m\u001b[43mconvert\u001b[49m\u001b[38;5;241;43m=\u001b[39;49m\u001b[43mconvert\u001b[49m\u001b[43m)\u001b[49m\n\u001b[0;32m   1744\u001b[0m \u001b[38;5;28;01melse\u001b[39;00m:\n\u001b[0;32m   1745\u001b[0m     \u001b[38;5;28;01mreturn\u001b[39;00m lib\u001b[38;5;241m.\u001b[39mmap_infer_mask(\n\u001b[0;32m   1746\u001b[0m         values, mapper, mask\u001b[38;5;241m=\u001b[39misna(values)\u001b[38;5;241m.\u001b[39mview(np\u001b[38;5;241m.\u001b[39muint8), convert\u001b[38;5;241m=\u001b[39mconvert\n\u001b[0;32m   1747\u001b[0m     )\n",
      "File \u001b[1;32mlib.pyx:2972\u001b[0m, in \u001b[0;36mpandas._libs.lib.map_infer\u001b[1;34m()\u001b[0m\n",
      "Cell \u001b[1;32mIn[239], line 1\u001b[0m, in \u001b[0;36m<lambda>\u001b[1;34m(x)\u001b[0m\n\u001b[1;32m----> 1\u001b[0m df_all[\u001b[38;5;124m'\u001b[39m\u001b[38;5;124mcharacter traits\u001b[39m\u001b[38;5;124m'\u001b[39m] \u001b[38;5;241m=\u001b[39m df_all[\u001b[38;5;124m'\u001b[39m\u001b[38;5;124mcharacter traits\u001b[39m\u001b[38;5;124m'\u001b[39m]\u001b[38;5;241m.\u001b[39mapply(\u001b[38;5;28;01mlambda\u001b[39;00m x: \u001b[43mx\u001b[49m\u001b[38;5;241;43m.\u001b[39;49m\u001b[43msplit\u001b[49m(\u001b[38;5;124m'\u001b[39m\u001b[38;5;124m,\u001b[39m\u001b[38;5;124m'\u001b[39m))\n",
      "\u001b[1;31mAttributeError\u001b[0m: 'list' object has no attribute 'split'"
     ]
    }
   ],
   "source": [
    "df_all['character traits'] = df_all['character traits'].apply(lambda x: x.split(','))"
   ]
  },
  {
   "cell_type": "code",
   "execution_count": null,
   "metadata": {},
   "outputs": [],
   "source": [
    "df_all.head()"
   ]
  },
  {
   "cell_type": "code",
   "execution_count": null,
   "metadata": {},
   "outputs": [],
   "source": [
    "df_all = df_all.explode('character traits')"
   ]
  },
  {
   "cell_type": "code",
   "execution_count": null,
   "metadata": {},
   "outputs": [],
   "source": [
    "# df_all.shape"
   ]
  },
  {
   "cell_type": "code",
   "execution_count": null,
   "metadata": {},
   "outputs": [],
   "source": [
    "sns.histplot(data=df_all[df_all['fur color'].isin(fur_colors)].reset_index(), x='max_longevity', \n",
    "             hue='fur color', kde=True, bins=15)\n",
    "plt.title('\\n Longevity by Fur color\\n')"
   ]
  },
  {
   "cell_type": "code",
   "execution_count": null,
   "metadata": {},
   "outputs": [],
   "source": [
    "\n",
    "sns.histplot(data=df_all[df_all['character traits'].isin(character_traits)].reset_index(), x='max_height', \n",
    "             hue='character traits', kde=True, bins=15)\n"
   ]
  },
  {
   "cell_type": "code",
   "execution_count": null,
   "metadata": {},
   "outputs": [],
   "source": [
    "df_all"
   ]
  }
 ],
 "metadata": {
  "kernelspec": {
   "display_name": "Python 3",
   "language": "python",
   "name": "python3"
  },
  "language_info": {
   "codemirror_mode": {
    "name": "ipython",
    "version": 3
   },
   "file_extension": ".py",
   "mimetype": "text/x-python",
   "name": "python",
   "nbconvert_exporter": "python",
   "pygments_lexer": "ipython3",
   "version": "3.12.4"
  }
 },
 "nbformat": 4,
 "nbformat_minor": 2
}
